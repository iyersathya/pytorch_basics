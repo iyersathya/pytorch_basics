{
 "cells": [
  {
   "cell_type": "markdown",
   "metadata": {},
   "source": [
    "## Basics ipython operations notes from book Python for Data Analysis\n",
    "To get a detailed notes an tutorial please read this book and refer to https://github.com/wesm/pydata-book"
   ]
  },
  {
   "cell_type": "code",
   "execution_count": 1,
   "metadata": {
    "ExecuteTime": {
     "end_time": "2018-08-08T16:43:32.907527Z",
     "start_time": "2018-08-08T16:43:32.903538Z"
    }
   },
   "outputs": [],
   "source": [
    "# Use SHIFT-ENTER to run each cell.\n",
    "# CTRL-s to save \n",
    "# Enter to edit the cell\n",
    "# Press h to see list of commands\n"
   ]
  },
  {
   "cell_type": "code",
   "execution_count": 2,
   "metadata": {
    "ExecuteTime": {
     "end_time": "2018-08-08T16:43:37.074391Z",
     "start_time": "2018-08-08T16:43:37.063420Z"
    },
    "scrolled": true
   },
   "outputs": [
    {
     "name": "stdout",
     "output_type": "stream",
     "text": [
      "D:\\temp\\mls\\pytorch_basics\n"
     ]
    }
   ],
   "source": [
    "# Get the current path of this file\n",
    "path = %pwd\n",
    "print(f' current path {path}')"
   ]
  },
  {
   "cell_type": "code",
   "execution_count": 6,
   "metadata": {
    "ExecuteTime": {
     "end_time": "2018-08-08T16:46:05.186384Z",
     "start_time": "2018-08-08T16:46:05.183391Z"
    }
   },
   "outputs": [
    {
     "name": "stdout",
     "output_type": "stream",
     "text": [
      "You are using python version 3.6.6 |Anaconda, Inc.| (default, Jun 28 2018, 11:27:44) [MSC v.1900 64 bit (AMD64)]\n"
     ]
    }
   ],
   "source": [
    "# Get the current version of python\n",
    "import sys\n",
    "print(f'You are using python version {sys.version}')"
   ]
  },
  {
   "cell_type": "code",
   "execution_count": 7,
   "metadata": {
    "ExecuteTime": {
     "end_time": "2018-08-08T16:46:05.537445Z",
     "start_time": "2018-08-08T16:46:05.533455Z"
    }
   },
   "outputs": [],
   "source": [
    "import numpy as np\n",
    "import datetime"
   ]
  },
  {
   "cell_type": "code",
   "execution_count": 8,
   "metadata": {
    "ExecuteTime": {
     "end_time": "2018-08-08T16:46:10.974907Z",
     "start_time": "2018-08-08T16:46:10.966928Z"
    }
   },
   "outputs": [
    {
     "data": {
      "text/plain": [
       "{0: -0.12688233487425238,\n",
       " 1: 0.7755999168662748,\n",
       " 2: -1.6831665915406409,\n",
       " 3: -1.653894513048742,\n",
       " 4: 0.2572326959937568,\n",
       " 5: -1.661135552240992,\n",
       " 6: 0.5004280879443289}"
      ]
     },
     "execution_count": 8,
     "metadata": {},
     "output_type": "execute_result"
    }
   ],
   "source": [
    "# Create dictiorany with index and value using list comprehension\n",
    "data = { i : np.random.randn() for i in range(7)}\n",
    "data"
   ]
  },
  {
   "cell_type": "code",
   "execution_count": 9,
   "metadata": {
    "ExecuteTime": {
     "end_time": "2018-08-08T16:46:14.386784Z",
     "start_time": "2018-08-08T16:46:14.382796Z"
    }
   },
   "outputs": [],
   "source": [
    "# either press SHIFT-TAB over the function or put a '?' in the begining or end\n",
    "# to see the documentation of a function.\n",
    "?datetime.date.day"
   ]
  },
  {
   "cell_type": "code",
   "execution_count": 10,
   "metadata": {
    "ExecuteTime": {
     "end_time": "2018-08-08T16:46:15.339238Z",
     "start_time": "2018-08-08T16:46:15.334251Z"
    }
   },
   "outputs": [],
   "source": [
    "# '??' in the begining or end to see the source code of a function.\n",
    "np.random.rand??"
   ]
  },
  {
   "cell_type": "code",
   "execution_count": 11,
   "metadata": {
    "ExecuteTime": {
     "end_time": "2018-08-08T16:46:22.258739Z",
     "start_time": "2018-08-08T16:46:22.254749Z"
    }
   },
   "outputs": [
    {
     "data": {
      "text/plain": [
       "7"
      ]
     },
     "execution_count": 11,
     "metadata": {},
     "output_type": "execute_result"
    }
   ],
   "source": [
    "#Running a function , \n",
    "def fun(a ,b ): return a + b\n",
    "fun(3,4)"
   ]
  },
  {
   "cell_type": "markdown",
   "metadata": {},
   "source": [
    "## Magic functions only available in ipython"
   ]
  },
  {
   "cell_type": "code",
   "execution_count": 12,
   "metadata": {
    "ExecuteTime": {
     "end_time": "2018-08-08T16:46:27.555576Z",
     "start_time": "2018-08-08T16:46:25.383384Z"
    }
   },
   "outputs": [
    {
     "name": "stdout",
     "output_type": "stream",
     "text": [
      "2.67 µs ± 9.91 ns per loop (mean ± std. dev. of 7 runs, 100000 loops each)\n"
     ]
    }
   ],
   "source": [
    "%timeit np.random.randn(10,10)"
   ]
  },
  {
   "cell_type": "code",
   "execution_count": 13,
   "metadata": {
    "ExecuteTime": {
     "end_time": "2018-08-08T16:46:27.566546Z",
     "start_time": "2018-08-08T16:46:27.556574Z"
    }
   },
   "outputs": [],
   "source": [
    "#displays all the magic commands\n",
    "%magic"
   ]
  },
  {
   "cell_type": "code",
   "execution_count": 14,
   "metadata": {
    "ExecuteTime": {
     "end_time": "2018-08-08T16:46:37.499989Z",
     "start_time": "2018-08-08T16:46:36.878650Z"
    }
   },
   "outputs": [],
   "source": [
    "#Sets up integration, so that multiple plot windows can be drawn inside notebook.\n",
    "%matplotlib inline"
   ]
  },
  {
   "cell_type": "code",
   "execution_count": 15,
   "metadata": {
    "ExecuteTime": {
     "end_time": "2018-08-08T16:46:40.055157Z",
     "start_time": "2018-08-08T16:46:39.951435Z"
    }
   },
   "outputs": [
    {
     "data": {
      "text/plain": [
       "[<matplotlib.lines.Line2D at 0x1dcb60fd9b0>]"
      ]
     },
     "execution_count": 15,
     "metadata": {},
     "output_type": "execute_result"
    },
    {
     "data": {
      "image/png": "[encoded data removed]",
      "text/plain": [
       "<Figure size 432x288 with 1 Axes>"
      ]
     },
     "metadata": {},
     "output_type": "display_data"
    }
   ],
   "source": [
    "# Show a graph with matplotlib\n",
    "import matplotlib.pyplot as plt\n",
    "plt.plot(np.random.rand(50).cumsum())"
   ]
  },
  {
   "cell_type": "markdown",
   "metadata": {},
   "source": [
    "## Python language basics"
   ]
  },
  {
   "cell_type": "code",
   "execution_count": 22,
   "metadata": {
    "ExecuteTime": {
     "end_time": "2018-08-08T16:50:02.899681Z",
     "start_time": "2018-08-08T16:50:02.894694Z"
    }
   },
   "outputs": [
    {
     "name": "stdout",
     "output_type": "stream",
     "text": [
      "list => [1, 2, 3, 4]\n",
      "dictionary => {'Name': 'Sathya', 'Location': 'San Jose'}\n",
      "set => {1, 2, 3}\n"
     ]
    }
   ],
   "source": [
    "a = 5\n",
    "isinstance(a,int)\n",
    "\n",
    "# List\n",
    "lst = [1,2,3,4]\n",
    "print(f'list => {lst}')\n",
    "# Dictionary\n",
    "dict = {'Name':'Sathya','Location':'San Jose'}\n",
    "print(f'dictionary => {dict}')\n",
    "\n",
    "# Set (Doesn't allow duplicate values)\n",
    "y_set = {1, 2, 3}\n",
    "print(f'set => {y_set}')\n"
   ]
  },
  {
   "cell_type": "code",
   "execution_count": 24,
   "metadata": {
    "ExecuteTime": {
     "end_time": "2018-08-08T16:51:02.403557Z",
     "start_time": "2018-08-08T16:51:02.398570Z"
    }
   },
   "outputs": [
    {
     "name": "stdout",
     "output_type": "stream",
     "text": [
      "True\n",
      "False\n"
     ]
    }
   ],
   "source": [
    "### Duck typeing\n",
    "def is_iterable(obj):\n",
    "    try:\n",
    "        iter(obj)\n",
    "        return True\n",
    "    except TypeError: # not iterable.\n",
    "        return False\n",
    "    \n",
    "print( is_iterable('a string'))\n",
    "print( is_iterable(6))"
   ]
  },
  {
   "cell_type": "code",
   "execution_count": 25,
   "metadata": {
    "ExecuteTime": {
     "end_time": "2018-08-08T16:51:04.816107Z",
     "start_time": "2018-08-08T16:51:04.799153Z"
    }
   },
   "outputs": [
    {
     "ename": "TypeError",
     "evalue": "'tuple' object does not support item assignment",
     "output_type": "error",
     "traceback": [
      "\u001b[1;31m---------------------------------------------------------------------------\u001b[0m",
      "\u001b[1;31mTypeError\u001b[0m                                 Traceback (most recent call last)",
      "\u001b[1;32m<ipython-input-25-cabd7f003322>\u001b[0m in \u001b[0;36m<module>\u001b[1;34m()\u001b[0m\n\u001b[0;32m      1\u001b[0m \u001b[1;31m## Strings and tuples are immutable.\u001b[0m\u001b[1;33m\u001b[0m\u001b[1;33m\u001b[0m\u001b[0m\n\u001b[0;32m      2\u001b[0m \u001b[0mtup\u001b[0m \u001b[1;33m=\u001b[0m \u001b[1;33m(\u001b[0m\u001b[1;36m12\u001b[0m\u001b[1;33m,\u001b[0m\u001b[1;36m13\u001b[0m\u001b[1;33m)\u001b[0m\u001b[1;33m\u001b[0m\u001b[0m\n\u001b[1;32m----> 3\u001b[1;33m \u001b[0mtup\u001b[0m\u001b[1;33m[\u001b[0m\u001b[1;36m0\u001b[0m\u001b[1;33m]\u001b[0m \u001b[1;33m=\u001b[0m \u001b[1;36m14\u001b[0m\u001b[1;33m\u001b[0m\u001b[0m\n\u001b[0m",
      "\u001b[1;31mTypeError\u001b[0m: 'tuple' object does not support item assignment"
     ]
    }
   ],
   "source": [
    "## Strings and tuples are immutable.\n",
    "tup = (12,13)\n",
    "tup[0] = 14"
   ]
  },
  {
   "cell_type": "code",
   "execution_count": 26,
   "metadata": {
    "ExecuteTime": {
     "end_time": "2018-08-08T16:51:07.930780Z",
     "start_time": "2018-08-08T16:51:07.926790Z"
    }
   },
   "outputs": [
    {
     "name": "stdout",
     "output_type": "stream",
     "text": [
      "this is first line\n",
      "this is second line\n",
      "\n",
      "num of lines : 2\n"
     ]
    }
   ],
   "source": [
    "## multiline string\n",
    "c = \"\"\"this is first line\n",
    "this is second line\n",
    "\"\"\" \n",
    "print(c)\n",
    "count = c.count('\\n')\n",
    "print(f'num of lines : {count}')"
   ]
  },
  {
   "cell_type": "code",
   "execution_count": 28,
   "metadata": {
    "ExecuteTime": {
     "end_time": "2018-08-08T16:51:17.757507Z",
     "start_time": "2018-08-08T16:51:17.753518Z"
    }
   },
   "outputs": [
    {
     "data": {
      "text/plain": [
       "['t', 'e', 's', 't']"
      ]
     },
     "execution_count": 28,
     "metadata": {},
     "output_type": "execute_result"
    }
   ],
   "source": [
    "#convert string to list\n",
    "s = \"test\"\n",
    "list(s)"
   ]
  },
  {
   "cell_type": "code",
   "execution_count": 29,
   "metadata": {
    "ExecuteTime": {
     "end_time": "2018-08-08T16:51:19.379171Z",
     "start_time": "2018-08-08T16:51:19.375181Z"
    }
   },
   "outputs": [
    {
     "data": {
      "text/plain": [
       "3.14"
      ]
     },
     "execution_count": 29,
     "metadata": {},
     "output_type": "execute_result"
    }
   ],
   "source": [
    "# type casting\n",
    "s = '3.14'\n",
    "pi = float(s)\n",
    "pi"
   ]
  },
  {
   "cell_type": "code",
   "execution_count": 31,
   "metadata": {
    "ExecuteTime": {
     "end_time": "2018-08-08T16:51:39.458487Z",
     "start_time": "2018-08-08T16:51:39.454497Z"
    }
   },
   "outputs": [
    {
     "name": "stdout",
     "output_type": "stream",
     "text": [
      "4\n"
     ]
    }
   ],
   "source": [
    "# tuple\n",
    "tup = 4,5,6\n",
    "nested_tup = (2,3,(4,5))\n",
    "\n",
    "# unpack tuple\n",
    "a,b,c = tup\n",
    "print(a)\n"
   ]
  },
  {
   "cell_type": "code",
   "execution_count": 32,
   "metadata": {
    "ExecuteTime": {
     "end_time": "2018-08-08T16:51:43.291238Z",
     "start_time": "2018-08-08T16:51:43.286252Z"
    }
   },
   "outputs": [
    {
     "data": {
      "text/plain": [
       "['he', 'saw', 'six', 'small', 'foxes']"
      ]
     },
     "execution_count": 32,
     "metadata": {},
     "output_type": "execute_result"
    }
   ],
   "source": [
    "b = ['saw','small','he','foxes','six']\n",
    "b.sort(key=len)\n",
    "b"
   ]
  },
  {
   "cell_type": "code",
   "execution_count": 36,
   "metadata": {
    "ExecuteTime": {
     "end_time": "2018-08-08T16:54:16.132106Z",
     "start_time": "2018-08-08T16:54:16.127121Z"
    }
   },
   "outputs": [
    {
     "name": "stdout",
     "output_type": "stream",
     "text": [
      "original array lst=> [7, 2, 3, 7, 5, 6, 0, 1]\n",
      "\n",
      "from 1 to 4 lst[1:5] => [2, 3, 7, 5]\n",
      "from 0 to 4 lst[:5] => [7, 2, 3, 7, 5]\n",
      "from 5th to end lst[5:] => [6, 0, 1]\n",
      "last four elements lst[-4:] => [5, 6, 0, 1]\n",
      "every other element lst[::2] => [7, 3, 5, 0]\n",
      "every other element in reverse lst[::-2] => [1, 6, 7, 2]\n",
      "every third element lst[::3] => [7, 7, 0]\n"
     ]
    }
   ],
   "source": [
    "# Slicing\n",
    "lst = [7,2,3,7,5,6,0,1]\n",
    "print(f'original array lst=> {lst}')\n",
    "print()\n",
    "# Start index is included but stop index is not included.\n",
    "print(f'from 1 to 4 lst[1:5] => {lst[1:5]}')\n",
    "print(f'from 0 to 4 lst[:5] => {lst[:5]}')\n",
    "print(f'from 5th to end lst[5:] => {lst[5:]}')\n",
    "print(f'last four elements lst[-4:] => {lst[-4:]}')\n",
    "print(f'every other element lst[::2] => {lst[::2]}')\n",
    "print(f'every other element in reverse lst[::-2] => {lst[::-2]}')\n",
    "print(f'every third element lst[::3] => {lst[::3]}')"
   ]
  },
  {
   "cell_type": "code",
   "execution_count": 37,
   "metadata": {
    "ExecuteTime": {
     "end_time": "2018-08-08T16:54:25.651655Z",
     "start_time": "2018-08-08T16:54:25.646669Z"
    }
   },
   "outputs": [
    {
     "data": {
      "text/plain": [
       "('Nolan', 'Roger', 'Shilling')"
      ]
     },
     "execution_count": 37,
     "metadata": {},
     "output_type": "execute_result"
    }
   ],
   "source": [
    "## Zipping\n",
    "pitchers = [('Nolan','Ryan'),('Roger','Clemens'),('Shilling','Curt')]\n",
    "first_names,last_names= zip(*pitchers)\n",
    "first_names"
   ]
  },
  {
   "cell_type": "code",
   "execution_count": 38,
   "metadata": {
    "ExecuteTime": {
     "end_time": "2018-08-08T16:54:31.846094Z",
     "start_time": "2018-08-08T16:54:31.841107Z"
    }
   },
   "outputs": [
    {
     "data": {
      "text/plain": [
       "['Nolan', 'Ryan', 'Roger', 'Clemens', 'Shilling', 'Curt']"
      ]
     },
     "execution_count": 38,
     "metadata": {},
     "output_type": "execute_result"
    }
   ],
   "source": [
    "# Flatten pitchers into a list using list comprehension.\n",
    "pitchers = [('Nolan','Ryan'),('Roger','Clemens'),('Shilling','Curt')]\n",
    "flatten_names = [name for name_tup in pitchers for name in name_tup]\n",
    "flatten_names\n"
   ]
  },
  {
   "cell_type": "code",
   "execution_count": 42,
   "metadata": {
    "ExecuteTime": {
     "end_time": "2018-08-08T16:55:40.330990Z",
     "start_time": "2018-08-08T16:55:40.327002Z"
    }
   },
   "outputs": [
    {
     "name": "stdout",
     "output_type": "stream",
     "text": [
      "get alternate numbs: [1, 3, 5] \n",
      "get alternate numbs: <generator object <genexpr> at 0x000001DCB5E4CB48>\n"
     ]
    }
   ],
   "source": [
    "#Generators can be use in place of list comprehensions.\n",
    "x = [1,2,3,4,5,6]\n",
    "## get alternate numbers.\n",
    "y = [ i for i in x[::2]]\n",
    "\n",
    "print(f'get alternate numbs: {y} ')\n",
    "\n",
    "z = (i for i in x[::2])      \n",
    "print(f'get alternate numbs: {z}')"
   ]
  },
  {
   "cell_type": "markdown",
   "metadata": {},
   "source": [
    "## String basics\n"
   ]
  },
  {
   "cell_type": "code",
   "execution_count": 43,
   "metadata": {
    "ExecuteTime": {
     "end_time": "2018-08-08T16:59:01.347486Z",
     "start_time": "2018-08-08T16:59:01.342499Z"
    }
   },
   "outputs": [
    {
     "name": "stdout",
     "output_type": "stream",
     "text": [
      "['this', 'is', '         test']\n",
      "Remove whitespace with string.strip\n",
      "['this', 'is', 'test']\n",
      " find test in str True\n"
     ]
    }
   ],
   "source": [
    "# convert delimiter(,) separated string to list.\n",
    "str = 'this,is,         test'\n",
    "lst = str.split(',')\n",
    "print(lst)\n",
    "# Remove whitespace\n",
    "print(f'Remove whitespace with string.strip')\n",
    "lst = [str.strip() for str in lst]\n",
    "print(lst)\n",
    "\n",
    "# Find a word in sentence\n",
    "t = 'test'in str\n",
    "print(f' find test in str {t}')"
   ]
  },
  {
   "cell_type": "markdown",
   "metadata": {},
   "source": [
    "## Regular expression. \n",
    "Best place to learn regex is https://regexr.com/\n"
   ]
  },
  {
   "cell_type": "code",
   "execution_count": 44,
   "metadata": {
    "ExecuteTime": {
     "end_time": "2018-08-08T16:59:04.987753Z",
     "start_time": "2018-08-08T16:59:04.982767Z"
    }
   },
   "outputs": [
    {
     "name": "stdout",
     "output_type": "stream",
     "text": [
      "['this', 'is', 'test']\n"
     ]
    },
    {
     "data": {
      "text/plain": [
       "['this', 'is', 'test']"
      ]
     },
     "execution_count": 44,
     "metadata": {},
     "output_type": "execute_result"
    }
   ],
   "source": [
    "import re\n",
    "# Remove all the spaces and put it into list\n",
    "str = 'this  is         test'\n",
    "print(re.split('\\s+',str))\n",
    "# Better options is to compile the rex matcher and reuse it to matching strings.\n",
    "matcher = re.compile('\\s+')\n",
    "matcher.split(str)"
   ]
  },
  {
   "cell_type": "code",
   "execution_count": null,
   "metadata": {},
   "outputs": [],
   "source": []
  }
 ],
 "metadata": {
  "kernelspec": {
   "display_name": "Python 3",
   "language": "python",
   "name": "python3"
  },
  "language_info": {
   "codemirror_mode": {
    "name": "ipython",
    "version": 3
   },
   "file_extension": ".py",
   "mimetype": "text/x-python",
   "name": "python",
   "nbconvert_exporter": "python",
   "pygments_lexer": "ipython3",
   "version": "3.6.6"
  },
  "toc": {
   "base_numbering": 1,
   "nav_menu": {},
   "number_sections": true,
   "sideBar": true,
   "skip_h1_title": false,
   "title_cell": "Table of Contents",
   "title_sidebar": "Contents",
   "toc_cell": false,
   "toc_position": {},
   "toc_section_display": true,
   "toc_window_display": false
  }
 },
 "nbformat": 4,
 "nbformat_minor": 2
}
