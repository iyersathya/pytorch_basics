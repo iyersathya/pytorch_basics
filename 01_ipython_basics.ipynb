{
 "cells": [
  {
   "cell_type": "markdown",
   "metadata": {},
   "source": [
    "## Basics ipython operations notes from book Python for Data Analysis\n",
    "To get a detailed notes an tutorial please read this book and refer to https://github.com/wesm/pydata-book"
   ]
  },
  {
   "cell_type": "code",
   "execution_count": 1,
   "metadata": {
    "ExecuteTime": {
     "end_time": "2018-08-08T01:01:30.368815Z",
     "start_time": "2018-08-08T01:01:30.364826Z"
    }
   },
   "outputs": [],
   "source": [
    "# Use SHIFT-ENTER to run each cell.\n",
    "# CTRL-s to save \n",
    "# Enter to edit the cell\n",
    "# Press h to see list of commands"
   ]
  },
  {
   "cell_type": "code",
   "execution_count": 2,
   "metadata": {
    "ExecuteTime": {
     "end_time": "2018-08-08T01:01:31.463403Z",
     "start_time": "2018-08-08T01:01:31.452425Z"
    },
    "scrolled": true
   },
   "outputs": [
    {
     "name": "stdout",
     "output_type": "stream",
     "text": [
      "D:\\temp\\mls\\pytorch_basics\n"
     ]
    }
   ],
   "source": [
    "# Get the current path of this file\n",
    "path = %pwd\n",
    "print(path)"
   ]
  },
  {
   "cell_type": "code",
   "execution_count": 3,
   "metadata": {
    "ExecuteTime": {
     "end_time": "2018-08-08T01:01:32.858701Z",
     "start_time": "2018-08-08T01:01:32.332077Z"
    }
   },
   "outputs": [],
   "source": [
    "import numpy as np\n",
    "import datetime"
   ]
  },
  {
   "cell_type": "code",
   "execution_count": 4,
   "metadata": {
    "ExecuteTime": {
     "end_time": "2018-08-08T01:01:32.868673Z",
     "start_time": "2018-08-08T01:01:32.860694Z"
    }
   },
   "outputs": [
    {
     "data": {
      "text/plain": [
       "{0: 0.9840207954780633,\n",
       " 1: -1.3015957859256497,\n",
       " 2: 0.41581107856904975,\n",
       " 3: 0.5216965165767254,\n",
       " 4: 0.14596063870359624,\n",
       " 5: -0.18561024297306625,\n",
       " 6: 0.09132351328161951}"
      ]
     },
     "execution_count": 4,
     "metadata": {},
     "output_type": "execute_result"
    }
   ],
   "source": [
    "# Create dictiorany with index and value using list comprehension\n",
    "data = { i : np.random.randn() for i in range(7)}\n",
    "data"
   ]
  },
  {
   "cell_type": "code",
   "execution_count": 5,
   "metadata": {
    "ExecuteTime": {
     "end_time": "2018-08-08T01:01:33.050190Z",
     "start_time": "2018-08-08T01:01:33.046201Z"
    }
   },
   "outputs": [],
   "source": [
    "# either press SHIFT-TAB over the function or put a '?' in the begining or end\n",
    "# to see the documentation of a function.\n",
    "?datetime.date.day"
   ]
  },
  {
   "cell_type": "code",
   "execution_count": 6,
   "metadata": {
    "ExecuteTime": {
     "end_time": "2018-08-08T01:01:33.281571Z",
     "start_time": "2018-08-08T01:01:33.277582Z"
    }
   },
   "outputs": [],
   "source": [
    "# '??' in the begining or end to see the source code of a function.\n",
    "np.random.rand??"
   ]
  },
  {
   "cell_type": "code",
   "execution_count": 7,
   "metadata": {
    "ExecuteTime": {
     "end_time": "2018-08-08T01:01:33.481039Z",
     "start_time": "2018-08-08T01:01:33.476051Z"
    }
   },
   "outputs": [
    {
     "data": {
      "text/plain": [
       "7"
      ]
     },
     "execution_count": 7,
     "metadata": {},
     "output_type": "execute_result"
    }
   ],
   "source": [
    "#Running a function , \n",
    "def fun(a ,b ): return a + b\n",
    "fun(3,4)"
   ]
  },
  {
   "cell_type": "markdown",
   "metadata": {},
   "source": [
    "## Magic functions only available in ipython"
   ]
  },
  {
   "cell_type": "code",
   "execution_count": 8,
   "metadata": {
    "ExecuteTime": {
     "end_time": "2018-08-08T01:01:38.406903Z",
     "start_time": "2018-08-08T01:01:36.204791Z"
    }
   },
   "outputs": [
    {
     "name": "stdout",
     "output_type": "stream",
     "text": [
      "2.7 µs ± 8.03 ns per loop (mean ± std. dev. of 7 runs, 100000 loops each)\n"
     ]
    }
   ],
   "source": [
    "%timeit np.random.randn(10,10)"
   ]
  },
  {
   "cell_type": "code",
   "execution_count": 9,
   "metadata": {
    "ExecuteTime": {
     "end_time": "2018-08-08T01:01:38.417874Z",
     "start_time": "2018-08-08T01:01:38.407901Z"
    }
   },
   "outputs": [],
   "source": [
    "#displays all the magic commands\n",
    "%magic"
   ]
  },
  {
   "cell_type": "code",
   "execution_count": 10,
   "metadata": {
    "ExecuteTime": {
     "end_time": "2018-08-08T01:01:39.212947Z",
     "start_time": "2018-08-08T01:01:38.459762Z"
    }
   },
   "outputs": [],
   "source": [
    "#Sets up integration, so that multiple plot windows can be drawn inside notebook.\n",
    "%matplotlib inline"
   ]
  },
  {
   "cell_type": "code",
   "execution_count": 11,
   "metadata": {
    "ExecuteTime": {
     "end_time": "2018-08-08T01:01:39.319660Z",
     "start_time": "2018-08-08T01:01:39.213943Z"
    }
   },
   "outputs": [
    {
     "data": {
      "text/plain": [
       "[<matplotlib.lines.Line2D at 0x2836095f668>]"
      ]
     },
     "execution_count": 11,
     "metadata": {},
     "output_type": "execute_result"
    },
    {
     "data": {
      "image/png": "[encoded data removed]",
      "text/plain": [
       "<Figure size 432x288 with 1 Axes>"
      ]
     },
     "metadata": {},
     "output_type": "display_data"
    }
   ],
   "source": [
    "# Show a graph with matplotlib\n",
    "import matplotlib.pyplot as plt\n",
    "plt.plot(np.random.rand(50).cumsum())"
   ]
  },
  {
   "cell_type": "markdown",
   "metadata": {},
   "source": [
    "## Python language basics"
   ]
  },
  {
   "cell_type": "code",
   "execution_count": 12,
   "metadata": {
    "ExecuteTime": {
     "end_time": "2018-08-08T01:01:39.324647Z",
     "start_time": "2018-08-08T01:01:39.320657Z"
    }
   },
   "outputs": [
    {
     "data": {
      "text/plain": [
       "True"
      ]
     },
     "execution_count": 12,
     "metadata": {},
     "output_type": "execute_result"
    }
   ],
   "source": [
    "a = 5\n",
    "isinstance(a,int)"
   ]
  },
  {
   "cell_type": "code",
   "execution_count": 13,
   "metadata": {
    "ExecuteTime": {
     "end_time": "2018-08-08T01:01:39.346591Z",
     "start_time": "2018-08-08T01:01:39.325644Z"
    }
   },
   "outputs": [
    {
     "name": "stdout",
     "output_type": "stream",
     "text": [
      "True\n",
      "False\n"
     ]
    }
   ],
   "source": [
    "### Duck typeing\n",
    "def is_iterable(obj):\n",
    "    try:\n",
    "        iter(obj)\n",
    "        return True\n",
    "    except TypeError: # not iterable.\n",
    "        return False\n",
    "    \n",
    "print( is_iterable('a string'))\n",
    "print( is_iterable(6))"
   ]
  },
  {
   "cell_type": "code",
   "execution_count": 14,
   "metadata": {
    "ExecuteTime": {
     "end_time": "2018-08-08T01:01:41.661241Z",
     "start_time": "2018-08-08T01:01:41.598409Z"
    }
   },
   "outputs": [
    {
     "ename": "TypeError",
     "evalue": "'tuple' object does not support item assignment",
     "output_type": "error",
     "traceback": [
      "\u001b[1;31m---------------------------------------------------------------------------\u001b[0m",
      "\u001b[1;31mTypeError\u001b[0m                                 Traceback (most recent call last)",
      "\u001b[1;32m<ipython-input-14-cabd7f003322>\u001b[0m in \u001b[0;36m<module>\u001b[1;34m()\u001b[0m\n\u001b[0;32m      1\u001b[0m \u001b[1;31m## Strings and tuples are immutable.\u001b[0m\u001b[1;33m\u001b[0m\u001b[1;33m\u001b[0m\u001b[0m\n\u001b[0;32m      2\u001b[0m \u001b[0mtup\u001b[0m \u001b[1;33m=\u001b[0m \u001b[1;33m(\u001b[0m\u001b[1;36m12\u001b[0m\u001b[1;33m,\u001b[0m\u001b[1;36m13\u001b[0m\u001b[1;33m)\u001b[0m\u001b[1;33m\u001b[0m\u001b[0m\n\u001b[1;32m----> 3\u001b[1;33m \u001b[0mtup\u001b[0m\u001b[1;33m[\u001b[0m\u001b[1;36m0\u001b[0m\u001b[1;33m]\u001b[0m \u001b[1;33m=\u001b[0m \u001b[1;36m14\u001b[0m\u001b[1;33m\u001b[0m\u001b[0m\n\u001b[0m",
      "\u001b[1;31mTypeError\u001b[0m: 'tuple' object does not support item assignment"
     ]
    }
   ],
   "source": [
    "## Strings and tuples are immutable.\n",
    "tup = (12,13)\n",
    "tup[0] = 14"
   ]
  },
  {
   "cell_type": "code",
   "execution_count": 15,
   "metadata": {
    "ExecuteTime": {
     "end_time": "2018-08-08T01:01:42.352398Z",
     "start_time": "2018-08-08T01:01:42.348409Z"
    }
   },
   "outputs": [
    {
     "name": "stdout",
     "output_type": "stream",
     "text": [
      "this is first line\n",
      "this is second line\n",
      "\n",
      "num of lines : 2\n"
     ]
    }
   ],
   "source": [
    "## multiline string\n",
    "c = \"\"\"this is first line\n",
    "this is second line\n",
    "\"\"\" \n",
    "print(c)\n",
    "count = c.count('\\n')\n",
    "print(f'num of lines : {count}')"
   ]
  },
  {
   "cell_type": "code",
   "execution_count": 16,
   "metadata": {
    "ExecuteTime": {
     "end_time": "2018-08-08T01:01:42.769790Z",
     "start_time": "2018-08-08T01:01:42.764804Z"
    }
   },
   "outputs": [
    {
     "data": {
      "text/plain": [
       "['t', 'e', 's', 't']"
      ]
     },
     "execution_count": 16,
     "metadata": {},
     "output_type": "execute_result"
    }
   ],
   "source": [
    "#convert string to list\n",
    "s = \"test\"\n",
    "list(s)"
   ]
  },
  {
   "cell_type": "code",
   "execution_count": 17,
   "metadata": {
    "ExecuteTime": {
     "end_time": "2018-08-08T01:01:43.011145Z",
     "start_time": "2018-08-08T01:01:43.007156Z"
    }
   },
   "outputs": [
    {
     "data": {
      "text/plain": [
       "3.14"
      ]
     },
     "execution_count": 17,
     "metadata": {},
     "output_type": "execute_result"
    }
   ],
   "source": [
    "# type casting\n",
    "s = '3.14'\n",
    "pi = float(s)\n",
    "pi"
   ]
  },
  {
   "cell_type": "code",
   "execution_count": 18,
   "metadata": {
    "ExecuteTime": {
     "end_time": "2018-08-08T01:01:43.480889Z",
     "start_time": "2018-08-08T01:01:43.475903Z"
    }
   },
   "outputs": [
    {
     "data": {
      "text/plain": [
       "4"
      ]
     },
     "execution_count": 18,
     "metadata": {},
     "output_type": "execute_result"
    }
   ],
   "source": [
    "# tuple\n",
    "tup = 4,5,6\n",
    "nested_tup = (2,3,(4,5))\n",
    "\n",
    "# unpack tuple\n",
    "a,b,c = tup\n",
    "a\n"
   ]
  },
  {
   "cell_type": "code",
   "execution_count": 19,
   "metadata": {
    "ExecuteTime": {
     "end_time": "2018-08-08T01:01:45.328276Z",
     "start_time": "2018-08-08T01:01:45.323290Z"
    }
   },
   "outputs": [
    {
     "data": {
      "text/plain": [
       "['he', 'saw', 'six', 'small', 'foxes']"
      ]
     },
     "execution_count": 19,
     "metadata": {},
     "output_type": "execute_result"
    }
   ],
   "source": [
    "b = ['saw','small','he','foxes','six']\n",
    "b.sort(key=len)\n",
    "b"
   ]
  },
  {
   "cell_type": "code",
   "execution_count": 20,
   "metadata": {
    "ExecuteTime": {
     "end_time": "2018-08-08T01:01:45.514778Z",
     "start_time": "2018-08-08T01:01:45.510789Z"
    }
   },
   "outputs": [
    {
     "name": "stdout",
     "output_type": "stream",
     "text": [
      " from 1 to 4 [1:5] [2, 3, 7, 5]\n",
      " from 0 to 4 [:5] [7, 2, 3, 7, 5]\n",
      " from 5th to end [5:] [6, 0, 1]\n",
      "last four elements [-4:] [5, 6, 0, 1]\n",
      "every other element [::2] [7, 3, 5, 0]\n",
      "every other element in reverse [::-2] [1, 6, 7, 2]\n",
      "every third element [::3] [7, 7, 0]\n"
     ]
    }
   ],
   "source": [
    "# Slicing\n",
    "seq = [7,2,3,7,5,6,0,1]\n",
    "# Start index is included but stop index is not included.\n",
    "print(f' from 1 to 4 [1:5] {seq[1:5]}')\n",
    "print(f' from 0 to 4 [:5] {seq[:5]}')\n",
    "print(f' from 5th to end [5:] {seq[5:]}')\n",
    "print(f'last four elements [-4:] {seq[-4:]}')\n",
    "print(f'every other element [::2] {seq[::2]}')\n",
    "print(f'every other element in reverse [::-2] {seq[::-2]}')\n",
    "print(f'every third element [::3] {seq[::3]}')"
   ]
  },
  {
   "cell_type": "code",
   "execution_count": 21,
   "metadata": {
    "ExecuteTime": {
     "end_time": "2018-08-08T01:01:45.642437Z",
     "start_time": "2018-08-08T01:01:45.637450Z"
    }
   },
   "outputs": [
    {
     "data": {
      "text/plain": [
       "('Nolan', 'Roger', 'Shilling')"
      ]
     },
     "execution_count": 21,
     "metadata": {},
     "output_type": "execute_result"
    }
   ],
   "source": [
    "## Zipping\n",
    "pitchers = [('Nolan','Ryan'),('Roger','Clemens'),('Shilling','Curt')]\n",
    "first_names,last_names= zip(*pitchers)\n",
    "first_names"
   ]
  },
  {
   "cell_type": "code",
   "execution_count": 22,
   "metadata": {
    "ExecuteTime": {
     "end_time": "2018-08-08T01:01:45.792040Z",
     "start_time": "2018-08-08T01:01:45.787053Z"
    }
   },
   "outputs": [
    {
     "data": {
      "text/plain": [
       "['Nolan', 'Ryan', 'Roger', 'Clemens', 'Shilling', 'Curt']"
      ]
     },
     "execution_count": 22,
     "metadata": {},
     "output_type": "execute_result"
    }
   ],
   "source": [
    "# Flatten pitchers into a list using list comprehension.\n",
    "pitchers = [('Nolan','Ryan'),('Roger','Clemens'),('Shilling','Curt')]\n",
    "flatten_names = [name for name_tup in pitchers for name in name_tup]\n",
    "flatten_names\n"
   ]
  },
  {
   "cell_type": "code",
   "execution_count": 23,
   "metadata": {
    "ExecuteTime": {
     "end_time": "2018-08-08T01:01:45.931667Z",
     "start_time": "2018-08-08T01:01:45.926680Z"
    }
   },
   "outputs": [
    {
     "name": "stdout",
     "output_type": "stream",
     "text": [
      " get alternate numbs: [1, 3, 5] \n",
      " get alternate numbs: <generator object <genexpr> at 0x00000283606BAE60>\n"
     ]
    }
   ],
   "source": [
    "#Generators can be use in place of list comprehensions.\n",
    "x = [1,2,3,4,5,6]\n",
    "## get alternate numbers.\n",
    "y = [ i for i in x[::2]]\n",
    "print(f' get alternate numbs: {y} ')\n",
    "z = (i for i in x[::2])      \n",
    "print(f' get alternate numbs: {z}')"
   ]
  },
  {
   "cell_type": "markdown",
   "metadata": {},
   "source": [
    "## String basics\n"
   ]
  },
  {
   "cell_type": "code",
   "execution_count": 24,
   "metadata": {
    "ExecuteTime": {
     "end_time": "2018-08-08T01:01:47.712173Z",
     "start_time": "2018-08-08T01:01:47.707186Z"
    }
   },
   "outputs": [
    {
     "name": "stdout",
     "output_type": "stream",
     "text": [
      "['this', 'is', '         test']\n",
      "Remove whitespace with string.strip\n",
      "['this', 'is', 'test']\n",
      " find test in str True\n"
     ]
    }
   ],
   "source": [
    "# convert delimiter(,) separated string to list.\n",
    "str = 'this,is,         test'\n",
    "lst = str.split(',')\n",
    "print(lst)\n",
    "# Remove whitespace\n",
    "print(f'Remove whitespace with string.strip')\n",
    "lst = [str.strip() for str in lst]\n",
    "print(lst)\n",
    "\n",
    "# Find a word in sentence\n",
    "t = 'test'in str\n",
    "print(f' find test in str {t}')"
   ]
  },
  {
   "cell_type": "markdown",
   "metadata": {},
   "source": [
    "## Regular expression. \n",
    "Best place to learn regex is https://regexr.com/\n"
   ]
  },
  {
   "cell_type": "code",
   "execution_count": 25,
   "metadata": {
    "ExecuteTime": {
     "end_time": "2018-08-08T01:01:48.690563Z",
     "start_time": "2018-08-08T01:01:48.685576Z"
    }
   },
   "outputs": [
    {
     "name": "stdout",
     "output_type": "stream",
     "text": [
      "['this', 'is', 'test']\n"
     ]
    },
    {
     "data": {
      "text/plain": [
       "['this', 'is', 'test']"
      ]
     },
     "execution_count": 25,
     "metadata": {},
     "output_type": "execute_result"
    }
   ],
   "source": [
    "import re\n",
    "# Remove all the spaces and put it into list\n",
    "str = 'this  is         test'\n",
    "print(re.split('\\s+',str))\n",
    "# Better options is to compile the rex matcher and reuse it to matching strings.\n",
    "matcher = re.compile('\\s+')\n",
    "matcher.split(str)"
   ]
  },
  {
   "cell_type": "code",
   "execution_count": null,
   "metadata": {},
   "outputs": [],
   "source": []
  }
 ],
 "metadata": {
  "kernelspec": {
   "display_name": "Python 3",
   "language": "python",
   "name": "python3"
  },
  "language_info": {
   "codemirror_mode": {
    "name": "ipython",
    "version": 3
   },
   "file_extension": ".py",
   "mimetype": "text/x-python",
   "name": "python",
   "nbconvert_exporter": "python",
   "pygments_lexer": "ipython3",
   "version": "3.6.6"
  },
  "toc": {
   "base_numbering": 1,
   "nav_menu": {},
   "number_sections": true,
   "sideBar": true,
   "skip_h1_title": false,
   "title_cell": "Table of Contents",
   "title_sidebar": "Contents",
   "toc_cell": false,
   "toc_position": {},
   "toc_section_display": true,
   "toc_window_display": false
  }
 },
 "nbformat": 4,
 "nbformat_minor": 2
}
