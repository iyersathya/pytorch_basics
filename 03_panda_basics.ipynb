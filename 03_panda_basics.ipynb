{
 "cells": [
  {
   "cell_type": "markdown",
   "metadata": {},
   "source": [
    "## Panda basics notes from book Python for Data Analysis\n",
    "To get a detailed notes an tutorial please read this book and refer to https://github.com/wesm/pydata-book"
   ]
  },
  {
   "cell_type": "code",
   "execution_count": 1,
   "metadata": {
    "ExecuteTime": {
     "end_time": "2018-08-08T01:02:27.740505Z",
     "start_time": "2018-08-08T01:02:26.715238Z"
    }
   },
   "outputs": [],
   "source": [
    "# Use SHIFT-ENTER to run each cell.\n",
    "# CTRL-s to save \n",
    "# Enter to edit the cell\n",
    "import pandas as pd\n",
    "import numpy as np"
   ]
  },
  {
   "cell_type": "code",
   "execution_count": 2,
   "metadata": {
    "ExecuteTime": {
     "end_time": "2018-08-08T01:02:27.753470Z",
     "start_time": "2018-08-08T01:02:27.741502Z"
    }
   },
   "outputs": [
    {
     "name": "stdout",
     "output_type": "stream",
     "text": [
      "first column is default index\n",
      "second column are the values\n",
      "0    4\n",
      "1   -7\n",
      "2   -5\n",
      "3    3\n",
      "dtype: int64\n",
      "\n",
      "To get only the values run obj.values\n",
      "[ 4 -7 -5  3]\n"
     ]
    }
   ],
   "source": [
    "# Create a single dimentional array with pandas\n",
    "# This is also known as a Series in pandas.\n",
    "obj = pd.Series([4,-7,-5,3])\n",
    "print(f'first column is default index')\n",
    "print(f'second column are the values')\n",
    "print(obj)\n",
    "print(f'\\nTo get only the values run obj.values')\n",
    "print(obj.values)"
   ]
  },
  {
   "cell_type": "code",
   "execution_count": 3,
   "metadata": {
    "ExecuteTime": {
     "end_time": "2018-08-08T01:02:27.771422Z",
     "start_time": "2018-08-08T01:02:27.754468Z"
    }
   },
   "outputs": [
    {
     "data": {
      "text/plain": [
       "100    4\n",
       "200   -7\n",
       "300   -5\n",
       "400    3\n",
       "dtype: int64"
      ]
     },
     "execution_count": 3,
     "metadata": {},
     "output_type": "execute_result"
    }
   ],
   "source": [
    "# Assign a custom index to the panda series\n",
    "obj2= pd.Series([4,-7,-5,3], index=[100,200,300,400])\n",
    "obj2"
   ]
  },
  {
   "cell_type": "code",
   "execution_count": 4,
   "metadata": {
    "ExecuteTime": {
     "end_time": "2018-08-08T01:02:27.783390Z",
     "start_time": "2018-08-08T01:02:27.772419Z"
    }
   },
   "outputs": [
    {
     "data": {
      "text/plain": [
       "-7"
      ]
     },
     "execution_count": 4,
     "metadata": {},
     "output_type": "execute_result"
    }
   ],
   "source": [
    "# To get a row corresponding to a particular\n",
    "# use array construct as below.\n",
    "obj2[200]"
   ]
  },
  {
   "cell_type": "code",
   "execution_count": 5,
   "metadata": {
    "ExecuteTime": {
     "end_time": "2018-08-08T01:02:27.796355Z",
     "start_time": "2018-08-08T01:02:27.784387Z"
    }
   },
   "outputs": [
    {
     "data": {
      "text/plain": [
       "100    54.598150\n",
       "200     0.000912\n",
       "300     0.006738\n",
       "400    20.085537\n",
       "dtype: float64"
      ]
     },
     "execution_count": 5,
     "metadata": {},
     "output_type": "execute_result"
    }
   ],
   "source": [
    "# Take a exponential of pandas series object.\n",
    "np.exp(obj2)"
   ]
  },
  {
   "cell_type": "code",
   "execution_count": 6,
   "metadata": {
    "ExecuteTime": {
     "end_time": "2018-08-08T01:02:29.075035Z",
     "start_time": "2018-08-08T01:02:29.068054Z"
    }
   },
   "outputs": [
    {
     "data": {
      "text/plain": [
       "a    1234\n",
       "b     222\n",
       "c      98\n",
       "dtype: int64"
      ]
     },
     "execution_count": 6,
     "metadata": {},
     "output_type": "execute_result"
    }
   ],
   "source": [
    "# Create a series from dict\n",
    "sdata = {\"a\":1234,\"b\":222,\"c\":98}\n",
    "data = pd.Series(sdata)\n",
    "data"
   ]
  },
  {
   "cell_type": "code",
   "execution_count": 7,
   "metadata": {
    "ExecuteTime": {
     "end_time": "2018-08-08T01:02:29.413134Z",
     "start_time": "2018-08-08T01:02:29.406152Z"
    }
   },
   "outputs": [
    {
     "data": {
      "text/plain": [
       "b     222.0\n",
       "c      98.0\n",
       "d       NaN\n",
       "a    1234.0\n",
       "dtype: float64"
      ]
     },
     "execution_count": 7,
     "metadata": {},
     "output_type": "execute_result"
    }
   ],
   "source": [
    "# Reassign the indexes in a different order.\n",
    "indexes = [\"b\",\"c\",\"d\",\"a\"]\n",
    "data = pd.Series(sdata,index=indexes)\n",
    "data"
   ]
  },
  {
   "cell_type": "code",
   "execution_count": 8,
   "metadata": {
    "ExecuteTime": {
     "end_time": "2018-08-08T01:02:29.680425Z",
     "start_time": "2018-08-08T01:02:29.674441Z"
    }
   },
   "outputs": [
    {
     "data": {
      "text/plain": [
       "calif     222.0\n",
       "ohio       98.0\n",
       "texas       NaN\n",
       "ny       1234.0\n",
       "dtype: float64"
      ]
     },
     "execution_count": 8,
     "metadata": {},
     "output_type": "execute_result"
    }
   ],
   "source": [
    "#assign new indexes\n",
    "data.index = [\"calif\",\"ohio\",\"texas\",\"ny\"]\n",
    "data"
   ]
  },
  {
   "cell_type": "code",
   "execution_count": 9,
   "metadata": {
    "ExecuteTime": {
     "end_time": "2018-08-08T01:02:30.224972Z",
     "start_time": "2018-08-08T01:02:30.218988Z"
    }
   },
   "outputs": [
    {
     "data": {
      "text/plain": [
       "ny       1234.0\n",
       "ohio       98.0\n",
       "calif     222.0\n",
       "texas       NaN\n",
       "ny       1234.0\n",
       "dtype: float64"
      ]
     },
     "execution_count": 9,
     "metadata": {},
     "output_type": "execute_result"
    }
   ],
   "source": [
    "#reindex\n",
    "data = data.reindex([\"ny\",\"ohio\",\"calif\",\"texas\",\"ny\"])\n",
    "data"
   ]
  },
  {
   "cell_type": "code",
   "execution_count": 10,
   "metadata": {
    "ExecuteTime": {
     "end_time": "2018-08-08T01:02:30.784795Z",
     "start_time": "2018-08-08T01:02:30.742907Z"
    }
   },
   "outputs": [
    {
     "data": {
      "text/html": [
       "<div>\n",
       "<style scoped>\n",
       "    .dataframe tbody tr th:only-of-type {\n",
       "        vertical-align: middle;\n",
       "    }\n",
       "\n",
       "    .dataframe tbody tr th {\n",
       "        vertical-align: top;\n",
       "    }\n",
       "\n",
       "    .dataframe thead th {\n",
       "        text-align: right;\n",
       "    }\n",
       "</style>\n",
       "<table border=\"1\" class=\"dataframe\">\n",
       "  <thead>\n",
       "    <tr style=\"text-align: right;\">\n",
       "      <th></th>\n",
       "      <th>state</th>\n",
       "      <th>year</th>\n",
       "      <th>pop</th>\n",
       "    </tr>\n",
       "  </thead>\n",
       "  <tbody>\n",
       "    <tr>\n",
       "      <th>0</th>\n",
       "      <td>ohio</td>\n",
       "      <td>2000</td>\n",
       "      <td>1.5</td>\n",
       "    </tr>\n",
       "    <tr>\n",
       "      <th>1</th>\n",
       "      <td>ohio</td>\n",
       "      <td>2001</td>\n",
       "      <td>1.7</td>\n",
       "    </tr>\n",
       "    <tr>\n",
       "      <th>2</th>\n",
       "      <td>ohio</td>\n",
       "      <td>2002</td>\n",
       "      <td>3.6</td>\n",
       "    </tr>\n",
       "    <tr>\n",
       "      <th>3</th>\n",
       "      <td>nevada</td>\n",
       "      <td>2002</td>\n",
       "      <td>2.4</td>\n",
       "    </tr>\n",
       "    <tr>\n",
       "      <th>4</th>\n",
       "      <td>nevada</td>\n",
       "      <td>2001</td>\n",
       "      <td>2.9</td>\n",
       "    </tr>\n",
       "    <tr>\n",
       "      <th>5</th>\n",
       "      <td>nevada</td>\n",
       "      <td>2002</td>\n",
       "      <td>3.2</td>\n",
       "    </tr>\n",
       "    <tr>\n",
       "      <th>6</th>\n",
       "      <td>ca</td>\n",
       "      <td>2003</td>\n",
       "      <td>4.4</td>\n",
       "    </tr>\n",
       "  </tbody>\n",
       "</table>\n",
       "</div>"
      ],
      "text/plain": [
       "    state  year  pop\n",
       "0    ohio  2000  1.5\n",
       "1    ohio  2001  1.7\n",
       "2    ohio  2002  3.6\n",
       "3  nevada  2002  2.4\n",
       "4  nevada  2001  2.9\n",
       "5  nevada  2002  3.2\n",
       "6      ca  2003  4.4"
      ]
     },
     "execution_count": 10,
     "metadata": {},
     "output_type": "execute_result"
    }
   ],
   "source": [
    "# create a dataframe from python dictionary.\n",
    "data = {'state':['ohio','ohio','ohio','nevada','nevada','nevada','ca'], \n",
    "       'year':[2000,2001,2002,2002,2001,2002,2003],\n",
    "       'pop':[1.5,1.7,3.6,2.4,2.9,3.2,4.4]}\n",
    "frame= pd.DataFrame(data)\n",
    "frame"
   ]
  },
  {
   "cell_type": "code",
   "execution_count": 11,
   "metadata": {
    "ExecuteTime": {
     "end_time": "2018-08-08T01:02:31.198689Z",
     "start_time": "2018-08-08T01:02:31.187718Z"
    }
   },
   "outputs": [
    {
     "data": {
      "text/html": [
       "<div>\n",
       "<style scoped>\n",
       "    .dataframe tbody tr th:only-of-type {\n",
       "        vertical-align: middle;\n",
       "    }\n",
       "\n",
       "    .dataframe tbody tr th {\n",
       "        vertical-align: top;\n",
       "    }\n",
       "\n",
       "    .dataframe thead th {\n",
       "        text-align: right;\n",
       "    }\n",
       "</style>\n",
       "<table border=\"1\" class=\"dataframe\">\n",
       "  <thead>\n",
       "    <tr style=\"text-align: right;\">\n",
       "      <th></th>\n",
       "      <th>year</th>\n",
       "      <th>state</th>\n",
       "      <th>pop</th>\n",
       "    </tr>\n",
       "  </thead>\n",
       "  <tbody>\n",
       "    <tr>\n",
       "      <th>0</th>\n",
       "      <td>2000</td>\n",
       "      <td>ohio</td>\n",
       "      <td>1.5</td>\n",
       "    </tr>\n",
       "    <tr>\n",
       "      <th>1</th>\n",
       "      <td>2001</td>\n",
       "      <td>ohio</td>\n",
       "      <td>1.7</td>\n",
       "    </tr>\n",
       "    <tr>\n",
       "      <th>2</th>\n",
       "      <td>2002</td>\n",
       "      <td>ohio</td>\n",
       "      <td>3.6</td>\n",
       "    </tr>\n",
       "    <tr>\n",
       "      <th>3</th>\n",
       "      <td>2002</td>\n",
       "      <td>nevada</td>\n",
       "      <td>2.4</td>\n",
       "    </tr>\n",
       "    <tr>\n",
       "      <th>4</th>\n",
       "      <td>2001</td>\n",
       "      <td>nevada</td>\n",
       "      <td>2.9</td>\n",
       "    </tr>\n",
       "    <tr>\n",
       "      <th>5</th>\n",
       "      <td>2002</td>\n",
       "      <td>nevada</td>\n",
       "      <td>3.2</td>\n",
       "    </tr>\n",
       "    <tr>\n",
       "      <th>6</th>\n",
       "      <td>2003</td>\n",
       "      <td>ca</td>\n",
       "      <td>4.4</td>\n",
       "    </tr>\n",
       "  </tbody>\n",
       "</table>\n",
       "</div>"
      ],
      "text/plain": [
       "   year   state  pop\n",
       "0  2000    ohio  1.5\n",
       "1  2001    ohio  1.7\n",
       "2  2002    ohio  3.6\n",
       "3  2002  nevada  2.4\n",
       "4  2001  nevada  2.9\n",
       "5  2002  nevada  3.2\n",
       "6  2003      ca  4.4"
      ]
     },
     "execution_count": 11,
     "metadata": {},
     "output_type": "execute_result"
    }
   ],
   "source": [
    "# Rearrange based on columns.\n",
    "pd.DataFrame(data,columns=['year','state','pop'])"
   ]
  },
  {
   "cell_type": "code",
   "execution_count": 12,
   "metadata": {
    "ExecuteTime": {
     "end_time": "2018-08-08T01:02:31.687382Z",
     "start_time": "2018-08-08T01:02:31.677409Z"
    }
   },
   "outputs": [
    {
     "data": {
      "text/html": [
       "<div>\n",
       "<style scoped>\n",
       "    .dataframe tbody tr th:only-of-type {\n",
       "        vertical-align: middle;\n",
       "    }\n",
       "\n",
       "    .dataframe tbody tr th {\n",
       "        vertical-align: top;\n",
       "    }\n",
       "\n",
       "    .dataframe thead th {\n",
       "        text-align: right;\n",
       "    }\n",
       "</style>\n",
       "<table border=\"1\" class=\"dataframe\">\n",
       "  <thead>\n",
       "    <tr style=\"text-align: right;\">\n",
       "      <th></th>\n",
       "      <th>year</th>\n",
       "      <th>state</th>\n",
       "      <th>pop</th>\n",
       "    </tr>\n",
       "  </thead>\n",
       "  <tbody>\n",
       "    <tr>\n",
       "      <th>one</th>\n",
       "      <td>2000</td>\n",
       "      <td>ohio</td>\n",
       "      <td>1.5</td>\n",
       "    </tr>\n",
       "    <tr>\n",
       "      <th>two</th>\n",
       "      <td>2001</td>\n",
       "      <td>ohio</td>\n",
       "      <td>1.7</td>\n",
       "    </tr>\n",
       "    <tr>\n",
       "      <th>three</th>\n",
       "      <td>2002</td>\n",
       "      <td>ohio</td>\n",
       "      <td>3.6</td>\n",
       "    </tr>\n",
       "    <tr>\n",
       "      <th>four</th>\n",
       "      <td>2002</td>\n",
       "      <td>nevada</td>\n",
       "      <td>2.4</td>\n",
       "    </tr>\n",
       "    <tr>\n",
       "      <th>five</th>\n",
       "      <td>2001</td>\n",
       "      <td>nevada</td>\n",
       "      <td>2.9</td>\n",
       "    </tr>\n",
       "    <tr>\n",
       "      <th>six</th>\n",
       "      <td>2002</td>\n",
       "      <td>nevada</td>\n",
       "      <td>3.2</td>\n",
       "    </tr>\n",
       "    <tr>\n",
       "      <th>s7</th>\n",
       "      <td>2003</td>\n",
       "      <td>ca</td>\n",
       "      <td>4.4</td>\n",
       "    </tr>\n",
       "  </tbody>\n",
       "</table>\n",
       "</div>"
      ],
      "text/plain": [
       "       year   state  pop\n",
       "one    2000    ohio  1.5\n",
       "two    2001    ohio  1.7\n",
       "three  2002    ohio  3.6\n",
       "four   2002  nevada  2.4\n",
       "five   2001  nevada  2.9\n",
       "six    2002  nevada  3.2\n",
       "s7     2003      ca  4.4"
      ]
     },
     "execution_count": 12,
     "metadata": {},
     "output_type": "execute_result"
    }
   ],
   "source": [
    "#Reassign indexes in a dataframe\n",
    "frame2 = pd.DataFrame(data,\n",
    "                      columns=['year','state','pop'],\n",
    "                      index=['one','two','three','four','five','six','s7'])\n",
    "frame2"
   ]
  },
  {
   "cell_type": "code",
   "execution_count": 13,
   "metadata": {
    "ExecuteTime": {
     "end_time": "2018-08-08T01:02:32.080453Z",
     "start_time": "2018-08-08T01:02:32.075467Z"
    }
   },
   "outputs": [
    {
     "name": "stdout",
     "output_type": "stream",
     "text": [
      "get column with name \"state\" =>\n",
      " one        ohio\n",
      "two        ohio\n",
      "three      ohio\n",
      "four     nevada\n",
      "five     nevada\n",
      "six      nevada\n",
      "s7           ca\n",
      "Name: state, dtype: object\n",
      "get values of col \"state\" =>\n",
      " ['ohio' 'ohio' 'ohio' 'nevada' 'nevada' 'nevada' 'ca']\n"
     ]
    }
   ],
   "source": [
    "#Get the column state.\n",
    "print (f'get column with name \"state\" =>\\n {frame2[\"state\"]}')\n",
    "print (f'get values of col \"state\" =>\\n {frame2[\"state\"].values}')\n"
   ]
  },
  {
   "cell_type": "code",
   "execution_count": 14,
   "metadata": {
    "ExecuteTime": {
     "end_time": "2018-08-08T01:02:32.529253Z",
     "start_time": "2018-08-08T01:02:32.524267Z"
    }
   },
   "outputs": [
    {
     "data": {
      "text/plain": [
       "year       2001\n",
       "state    nevada\n",
       "pop         2.9\n",
       "Name: five, dtype: object"
      ]
     },
     "execution_count": 14,
     "metadata": {},
     "output_type": "execute_result"
    }
   ],
   "source": [
    "#Get row by index name\n",
    "frame2.loc['five']"
   ]
  },
  {
   "cell_type": "code",
   "execution_count": 15,
   "metadata": {
    "ExecuteTime": {
     "end_time": "2018-08-08T01:02:32.984041Z",
     "start_time": "2018-08-08T01:02:32.979054Z"
    }
   },
   "outputs": [
    {
     "data": {
      "text/plain": [
       "year       2001\n",
       "state    nevada\n",
       "pop         2.9\n",
       "Name: five, dtype: object"
      ]
     },
     "execution_count": 15,
     "metadata": {},
     "output_type": "execute_result"
    }
   ],
   "source": [
    "#Get row by index number, 5th row has a index of 4 (starting from 0)\n",
    "frame2.iloc[4]"
   ]
  },
  {
   "cell_type": "code",
   "execution_count": 16,
   "metadata": {
    "ExecuteTime": {
     "end_time": "2018-08-08T01:02:33.291583Z",
     "start_time": "2018-08-08T01:02:33.282607Z"
    }
   },
   "outputs": [
    {
     "data": {
      "text/html": [
       "<div>\n",
       "<style scoped>\n",
       "    .dataframe tbody tr th:only-of-type {\n",
       "        vertical-align: middle;\n",
       "    }\n",
       "\n",
       "    .dataframe tbody tr th {\n",
       "        vertical-align: top;\n",
       "    }\n",
       "\n",
       "    .dataframe thead th {\n",
       "        text-align: right;\n",
       "    }\n",
       "</style>\n",
       "<table border=\"1\" class=\"dataframe\">\n",
       "  <thead>\n",
       "    <tr style=\"text-align: right;\">\n",
       "      <th></th>\n",
       "      <th>year</th>\n",
       "      <th>state</th>\n",
       "      <th>pop</th>\n",
       "      <th>debt</th>\n",
       "    </tr>\n",
       "  </thead>\n",
       "  <tbody>\n",
       "    <tr>\n",
       "      <th>one</th>\n",
       "      <td>2000</td>\n",
       "      <td>ohio</td>\n",
       "      <td>1.5</td>\n",
       "      <td>0.0</td>\n",
       "    </tr>\n",
       "    <tr>\n",
       "      <th>two</th>\n",
       "      <td>2001</td>\n",
       "      <td>ohio</td>\n",
       "      <td>1.7</td>\n",
       "      <td>1.0</td>\n",
       "    </tr>\n",
       "    <tr>\n",
       "      <th>three</th>\n",
       "      <td>2002</td>\n",
       "      <td>ohio</td>\n",
       "      <td>3.6</td>\n",
       "      <td>2.0</td>\n",
       "    </tr>\n",
       "    <tr>\n",
       "      <th>four</th>\n",
       "      <td>2002</td>\n",
       "      <td>nevada</td>\n",
       "      <td>2.4</td>\n",
       "      <td>3.0</td>\n",
       "    </tr>\n",
       "    <tr>\n",
       "      <th>five</th>\n",
       "      <td>2001</td>\n",
       "      <td>nevada</td>\n",
       "      <td>2.9</td>\n",
       "      <td>4.0</td>\n",
       "    </tr>\n",
       "    <tr>\n",
       "      <th>six</th>\n",
       "      <td>2002</td>\n",
       "      <td>nevada</td>\n",
       "      <td>3.2</td>\n",
       "      <td>5.0</td>\n",
       "    </tr>\n",
       "    <tr>\n",
       "      <th>s7</th>\n",
       "      <td>2003</td>\n",
       "      <td>ca</td>\n",
       "      <td>4.4</td>\n",
       "      <td>6.0</td>\n",
       "    </tr>\n",
       "  </tbody>\n",
       "</table>\n",
       "</div>"
      ],
      "text/plain": [
       "       year   state  pop  debt\n",
       "one    2000    ohio  1.5   0.0\n",
       "two    2001    ohio  1.7   1.0\n",
       "three  2002    ohio  3.6   2.0\n",
       "four   2002  nevada  2.4   3.0\n",
       "five   2001  nevada  2.9   4.0\n",
       "six    2002  nevada  3.2   5.0\n",
       "s7     2003      ca  4.4   6.0"
      ]
     },
     "execution_count": 16,
     "metadata": {},
     "output_type": "execute_result"
    }
   ],
   "source": [
    "# Add a new column to Data frame.\n",
    "frame2['debt'] = np.arange(7.)\n",
    "frame2"
   ]
  },
  {
   "cell_type": "code",
   "execution_count": 17,
   "metadata": {
    "ExecuteTime": {
     "end_time": "2018-08-08T01:02:33.478084Z",
     "start_time": "2018-08-08T01:02:33.474095Z"
    }
   },
   "outputs": [
    {
     "name": "stdout",
     "output_type": "stream",
     "text": [
      " indexes frame.index =>\n",
      " Index(['one', 'two', 'three', 'four', 'five', 'six', 's7'], dtype='object')\n",
      " columns frame.columns =>\n",
      " Index(['year', 'state', 'pop', 'debt'], dtype='object')\n"
     ]
    }
   ],
   "source": [
    "# get indexes\n",
    "print( f' indexes frame.index =>\\n {frame2.index}')\n",
    "print( f' columns frame.columns =>\\n {frame2.columns}')\n"
   ]
  },
  {
   "cell_type": "code",
   "execution_count": 18,
   "metadata": {
    "ExecuteTime": {
     "end_time": "2018-08-08T01:02:33.662591Z",
     "start_time": "2018-08-08T01:02:33.656607Z"
    }
   },
   "outputs": [
    {
     "data": {
      "text/plain": [
       "100    1.2\n",
       "200   -1.5\n",
       "300   -1.7\n",
       "dtype: float64"
      ]
     },
     "execution_count": 18,
     "metadata": {},
     "output_type": "execute_result"
    }
   ],
   "source": [
    "val = pd.Series([1.2,-1.5,-1.7],index=[100,200,300])\n",
    "val"
   ]
  },
  {
   "cell_type": "code",
   "execution_count": 19,
   "metadata": {
    "ExecuteTime": {
     "end_time": "2018-08-08T01:02:33.848101Z",
     "start_time": "2018-08-08T01:02:33.843114Z"
    }
   },
   "outputs": [
    {
     "data": {
      "text/plain": [
       "Int64Index([100, 200, 300], dtype='int64')"
      ]
     },
     "execution_count": 19,
     "metadata": {},
     "output_type": "execute_result"
    }
   ],
   "source": [
    "index = val.index\n",
    "index"
   ]
  },
  {
   "cell_type": "code",
   "execution_count": 20,
   "metadata": {
    "ExecuteTime": {
     "end_time": "2018-08-08T01:02:34.008675Z",
     "start_time": "2018-08-08T01:02:34.002691Z"
    }
   },
   "outputs": [
    {
     "data": {
      "text/plain": [
       "300   -1.7\n",
       "200   -1.5\n",
       "100    1.2\n",
       "50     NaN\n",
       "dtype: float64"
      ]
     },
     "execution_count": 20,
     "metadata": {},
     "output_type": "execute_result"
    }
   ],
   "source": [
    "# Reindex the data\n",
    "obj2 = val.reindex([300,200,100,50])\n",
    "obj2"
   ]
  },
  {
   "cell_type": "code",
   "execution_count": 21,
   "metadata": {
    "ExecuteTime": {
     "end_time": "2018-08-08T01:02:34.204152Z",
     "start_time": "2018-08-08T01:02:34.197171Z"
    }
   },
   "outputs": [
    {
     "data": {
      "text/plain": [
       "a    0.0\n",
       "b    1.0\n",
       "c    2.0\n",
       "d    3.0\n",
       "e    4.0\n",
       "dtype: float64"
      ]
     },
     "execution_count": 21,
     "metadata": {},
     "output_type": "execute_result"
    }
   ],
   "source": [
    "obj = pd.Series(np.arange(5.),index=['a','b','c','d','e'])\n",
    "obj"
   ]
  },
  {
   "cell_type": "code",
   "execution_count": 22,
   "metadata": {
    "ExecuteTime": {
     "end_time": "2018-08-08T01:02:34.371707Z",
     "start_time": "2018-08-08T01:02:34.365724Z"
    }
   },
   "outputs": [
    {
     "data": {
      "text/plain": [
       "a    0.0\n",
       "b    1.0\n",
       "d    3.0\n",
       "e    4.0\n",
       "dtype: float64"
      ]
     },
     "execution_count": 22,
     "metadata": {},
     "output_type": "execute_result"
    }
   ],
   "source": [
    "# drop a index\n",
    "new_obj = obj.drop('c')\n",
    "new_obj"
   ]
  },
  {
   "cell_type": "code",
   "execution_count": 23,
   "metadata": {
    "ExecuteTime": {
     "end_time": "2018-08-08T01:02:34.552233Z",
     "start_time": "2018-08-08T01:02:34.541262Z"
    }
   },
   "outputs": [
    {
     "data": {
      "text/html": [
       "<div>\n",
       "<style scoped>\n",
       "    .dataframe tbody tr th:only-of-type {\n",
       "        vertical-align: middle;\n",
       "    }\n",
       "\n",
       "    .dataframe tbody tr th {\n",
       "        vertical-align: top;\n",
       "    }\n",
       "\n",
       "    .dataframe thead th {\n",
       "        text-align: right;\n",
       "    }\n",
       "</style>\n",
       "<table border=\"1\" class=\"dataframe\">\n",
       "  <thead>\n",
       "    <tr style=\"text-align: right;\">\n",
       "      <th>my_columns</th>\n",
       "      <th>year</th>\n",
       "      <th>state</th>\n",
       "      <th>pop</th>\n",
       "    </tr>\n",
       "    <tr>\n",
       "      <th>numbers</th>\n",
       "      <th></th>\n",
       "      <th></th>\n",
       "      <th></th>\n",
       "    </tr>\n",
       "  </thead>\n",
       "  <tbody>\n",
       "    <tr>\n",
       "      <th>one</th>\n",
       "      <td>2000</td>\n",
       "      <td>ohio</td>\n",
       "      <td>1.5</td>\n",
       "    </tr>\n",
       "    <tr>\n",
       "      <th>two</th>\n",
       "      <td>2001</td>\n",
       "      <td>ohio</td>\n",
       "      <td>1.7</td>\n",
       "    </tr>\n",
       "    <tr>\n",
       "      <th>three</th>\n",
       "      <td>2002</td>\n",
       "      <td>ohio</td>\n",
       "      <td>3.6</td>\n",
       "    </tr>\n",
       "    <tr>\n",
       "      <th>four</th>\n",
       "      <td>2002</td>\n",
       "      <td>nevada</td>\n",
       "      <td>2.4</td>\n",
       "    </tr>\n",
       "    <tr>\n",
       "      <th>five</th>\n",
       "      <td>2001</td>\n",
       "      <td>nevada</td>\n",
       "      <td>2.9</td>\n",
       "    </tr>\n",
       "    <tr>\n",
       "      <th>six</th>\n",
       "      <td>2002</td>\n",
       "      <td>nevada</td>\n",
       "      <td>3.2</td>\n",
       "    </tr>\n",
       "    <tr>\n",
       "      <th>s7</th>\n",
       "      <td>2003</td>\n",
       "      <td>ca</td>\n",
       "      <td>4.4</td>\n",
       "    </tr>\n",
       "  </tbody>\n",
       "</table>\n",
       "</div>"
      ],
      "text/plain": [
       "my_columns  year   state  pop\n",
       "numbers                      \n",
       "one         2000    ohio  1.5\n",
       "two         2001    ohio  1.7\n",
       "three       2002    ohio  3.6\n",
       "four        2002  nevada  2.4\n",
       "five        2001  nevada  2.9\n",
       "six         2002  nevada  3.2\n",
       "s7          2003      ca  4.4"
      ]
     },
     "execution_count": 23,
     "metadata": {},
     "output_type": "execute_result"
    }
   ],
   "source": [
    "data = {'state':['ohio','ohio','ohio','nevada','nevada','nevada','ca'], \n",
    "       'year':[2000,2001,2002,2002,2001,2002,2003],\n",
    "       'pop':[1.5,1.7,3.6,2.4,2.9,3.2,4.4]}\n",
    "frame2 = pd.DataFrame(data,columns=['year','state','pop'],\n",
    "                      index=['one','two','three','four','five','six','s7'])\n",
    "# Give a name to index and column\n",
    "frame2.index.name='numbers'\n",
    "frame2.columns.name = 'my_columns'\n",
    "frame2"
   ]
  },
  {
   "cell_type": "code",
   "execution_count": 24,
   "metadata": {
    "ExecuteTime": {
     "end_time": "2018-08-08T01:02:34.724776Z",
     "start_time": "2018-08-08T01:02:34.716798Z"
    }
   },
   "outputs": [
    {
     "data": {
      "text/html": [
       "<div>\n",
       "<style scoped>\n",
       "    .dataframe tbody tr th:only-of-type {\n",
       "        vertical-align: middle;\n",
       "    }\n",
       "\n",
       "    .dataframe tbody tr th {\n",
       "        vertical-align: top;\n",
       "    }\n",
       "\n",
       "    .dataframe thead th {\n",
       "        text-align: right;\n",
       "    }\n",
       "</style>\n",
       "<table border=\"1\" class=\"dataframe\">\n",
       "  <thead>\n",
       "    <tr style=\"text-align: right;\">\n",
       "      <th>my_columns</th>\n",
       "      <th>year</th>\n",
       "      <th>state</th>\n",
       "      <th>pop</th>\n",
       "    </tr>\n",
       "    <tr>\n",
       "      <th>numbers</th>\n",
       "      <th></th>\n",
       "      <th></th>\n",
       "      <th></th>\n",
       "    </tr>\n",
       "  </thead>\n",
       "  <tbody>\n",
       "    <tr>\n",
       "      <th>one</th>\n",
       "      <td>2000</td>\n",
       "      <td>ohio</td>\n",
       "      <td>1.5</td>\n",
       "    </tr>\n",
       "    <tr>\n",
       "      <th>three</th>\n",
       "      <td>2002</td>\n",
       "      <td>ohio</td>\n",
       "      <td>3.6</td>\n",
       "    </tr>\n",
       "    <tr>\n",
       "      <th>four</th>\n",
       "      <td>2002</td>\n",
       "      <td>nevada</td>\n",
       "      <td>2.4</td>\n",
       "    </tr>\n",
       "    <tr>\n",
       "      <th>five</th>\n",
       "      <td>2001</td>\n",
       "      <td>nevada</td>\n",
       "      <td>2.9</td>\n",
       "    </tr>\n",
       "    <tr>\n",
       "      <th>six</th>\n",
       "      <td>2002</td>\n",
       "      <td>nevada</td>\n",
       "      <td>3.2</td>\n",
       "    </tr>\n",
       "    <tr>\n",
       "      <th>s7</th>\n",
       "      <td>2003</td>\n",
       "      <td>ca</td>\n",
       "      <td>4.4</td>\n",
       "    </tr>\n",
       "  </tbody>\n",
       "</table>\n",
       "</div>"
      ],
      "text/plain": [
       "my_columns  year   state  pop\n",
       "numbers                      \n",
       "one         2000    ohio  1.5\n",
       "three       2002    ohio  3.6\n",
       "four        2002  nevada  2.4\n",
       "five        2001  nevada  2.9\n",
       "six         2002  nevada  3.2\n",
       "s7          2003      ca  4.4"
      ]
     },
     "execution_count": 24,
     "metadata": {},
     "output_type": "execute_result"
    }
   ],
   "source": [
    "# Drop a row with index 'two'\n",
    "frame2.drop('two')"
   ]
  },
  {
   "cell_type": "code",
   "execution_count": 25,
   "metadata": {
    "ExecuteTime": {
     "end_time": "2018-08-08T01:02:34.892331Z",
     "start_time": "2018-08-08T01:02:34.884350Z"
    }
   },
   "outputs": [
    {
     "data": {
      "text/html": [
       "<div>\n",
       "<style scoped>\n",
       "    .dataframe tbody tr th:only-of-type {\n",
       "        vertical-align: middle;\n",
       "    }\n",
       "\n",
       "    .dataframe tbody tr th {\n",
       "        vertical-align: top;\n",
       "    }\n",
       "\n",
       "    .dataframe thead th {\n",
       "        text-align: right;\n",
       "    }\n",
       "</style>\n",
       "<table border=\"1\" class=\"dataframe\">\n",
       "  <thead>\n",
       "    <tr style=\"text-align: right;\">\n",
       "      <th>my_columns</th>\n",
       "      <th>state</th>\n",
       "      <th>pop</th>\n",
       "    </tr>\n",
       "    <tr>\n",
       "      <th>numbers</th>\n",
       "      <th></th>\n",
       "      <th></th>\n",
       "    </tr>\n",
       "  </thead>\n",
       "  <tbody>\n",
       "    <tr>\n",
       "      <th>one</th>\n",
       "      <td>ohio</td>\n",
       "      <td>1.5</td>\n",
       "    </tr>\n",
       "    <tr>\n",
       "      <th>two</th>\n",
       "      <td>ohio</td>\n",
       "      <td>1.7</td>\n",
       "    </tr>\n",
       "    <tr>\n",
       "      <th>three</th>\n",
       "      <td>ohio</td>\n",
       "      <td>3.6</td>\n",
       "    </tr>\n",
       "    <tr>\n",
       "      <th>four</th>\n",
       "      <td>nevada</td>\n",
       "      <td>2.4</td>\n",
       "    </tr>\n",
       "    <tr>\n",
       "      <th>five</th>\n",
       "      <td>nevada</td>\n",
       "      <td>2.9</td>\n",
       "    </tr>\n",
       "    <tr>\n",
       "      <th>six</th>\n",
       "      <td>nevada</td>\n",
       "      <td>3.2</td>\n",
       "    </tr>\n",
       "    <tr>\n",
       "      <th>s7</th>\n",
       "      <td>ca</td>\n",
       "      <td>4.4</td>\n",
       "    </tr>\n",
       "  </tbody>\n",
       "</table>\n",
       "</div>"
      ],
      "text/plain": [
       "my_columns   state  pop\n",
       "numbers                \n",
       "one           ohio  1.5\n",
       "two           ohio  1.7\n",
       "three         ohio  3.6\n",
       "four        nevada  2.4\n",
       "five        nevada  2.9\n",
       "six         nevada  3.2\n",
       "s7              ca  4.4"
      ]
     },
     "execution_count": 25,
     "metadata": {},
     "output_type": "execute_result"
    }
   ],
   "source": [
    "# Drop a column with name 'year' axis=1 means column\n",
    "frame2.drop('year',axis=1)"
   ]
  },
  {
   "cell_type": "code",
   "execution_count": 26,
   "metadata": {
    "ExecuteTime": {
     "end_time": "2018-08-08T01:02:35.080207Z",
     "start_time": "2018-08-08T01:02:35.072228Z"
    }
   },
   "outputs": [
    {
     "data": {
      "text/html": [
       "<div>\n",
       "<style scoped>\n",
       "    .dataframe tbody tr th:only-of-type {\n",
       "        vertical-align: middle;\n",
       "    }\n",
       "\n",
       "    .dataframe tbody tr th {\n",
       "        vertical-align: top;\n",
       "    }\n",
       "\n",
       "    .dataframe thead th {\n",
       "        text-align: right;\n",
       "    }\n",
       "</style>\n",
       "<table border=\"1\" class=\"dataframe\">\n",
       "  <thead>\n",
       "    <tr style=\"text-align: right;\">\n",
       "      <th>my_columns</th>\n",
       "      <th>year</th>\n",
       "      <th>pop</th>\n",
       "    </tr>\n",
       "    <tr>\n",
       "      <th>numbers</th>\n",
       "      <th></th>\n",
       "      <th></th>\n",
       "    </tr>\n",
       "  </thead>\n",
       "  <tbody>\n",
       "    <tr>\n",
       "      <th>one</th>\n",
       "      <td>2000</td>\n",
       "      <td>1.5</td>\n",
       "    </tr>\n",
       "    <tr>\n",
       "      <th>two</th>\n",
       "      <td>2001</td>\n",
       "      <td>1.7</td>\n",
       "    </tr>\n",
       "    <tr>\n",
       "      <th>three</th>\n",
       "      <td>2002</td>\n",
       "      <td>3.6</td>\n",
       "    </tr>\n",
       "    <tr>\n",
       "      <th>four</th>\n",
       "      <td>2002</td>\n",
       "      <td>2.4</td>\n",
       "    </tr>\n",
       "    <tr>\n",
       "      <th>five</th>\n",
       "      <td>2001</td>\n",
       "      <td>2.9</td>\n",
       "    </tr>\n",
       "    <tr>\n",
       "      <th>six</th>\n",
       "      <td>2002</td>\n",
       "      <td>3.2</td>\n",
       "    </tr>\n",
       "    <tr>\n",
       "      <th>s7</th>\n",
       "      <td>2003</td>\n",
       "      <td>4.4</td>\n",
       "    </tr>\n",
       "  </tbody>\n",
       "</table>\n",
       "</div>"
      ],
      "text/plain": [
       "my_columns  year  pop\n",
       "numbers              \n",
       "one         2000  1.5\n",
       "two         2001  1.7\n",
       "three       2002  3.6\n",
       "four        2002  2.4\n",
       "five        2001  2.9\n",
       "six         2002  3.2\n",
       "s7          2003  4.4"
      ]
     },
     "execution_count": 26,
     "metadata": {},
     "output_type": "execute_result"
    }
   ],
   "source": [
    "# Drop state in place \n",
    "frame2.drop('state',axis=1,inplace=True)\n",
    "frame2"
   ]
  },
  {
   "cell_type": "code",
   "execution_count": 27,
   "metadata": {
    "ExecuteTime": {
     "end_time": "2018-08-08T01:02:35.218839Z",
     "start_time": "2018-08-08T01:02:35.211858Z"
    }
   },
   "outputs": [
    {
     "name": "stdout",
     "output_type": "stream",
     "text": [
      "Indexes => Index(['one', 'two', 'three', 'four', 'five', 'six', 's7'], dtype='object')\n",
      "Columns => Index(['year', 'state', 'pop'], dtype='object')\n"
     ]
    }
   ],
   "source": [
    "data = {'state':['ohio','ohio','ohio','nevada','nevada','nevada','ca'], \n",
    "       'year':[2000,2001,2002,2002,2001,2002,2003],\n",
    "       'pop':[1.5,1.7,3.6,2.4,2.9,3.2,4.4]}\n",
    "frame2 = pd.DataFrame(data,columns=['year','state','pop'],\n",
    "                      index=['one','two','three','four','five','six','s7'])\n",
    "# Get a columns and indexes \n",
    "print(f'Indexes => {frame2.index}')\n",
    "print(f'Columns => {frame2.columns}')"
   ]
  },
  {
   "cell_type": "code",
   "execution_count": 28,
   "metadata": {
    "ExecuteTime": {
     "end_time": "2018-08-08T01:02:35.398359Z",
     "start_time": "2018-08-08T01:02:35.388386Z"
    }
   },
   "outputs": [
    {
     "data": {
      "text/html": [
       "<div>\n",
       "<style scoped>\n",
       "    .dataframe tbody tr th:only-of-type {\n",
       "        vertical-align: middle;\n",
       "    }\n",
       "\n",
       "    .dataframe tbody tr th {\n",
       "        vertical-align: top;\n",
       "    }\n",
       "\n",
       "    .dataframe thead th {\n",
       "        text-align: right;\n",
       "    }\n",
       "</style>\n",
       "<table border=\"1\" class=\"dataframe\">\n",
       "  <thead>\n",
       "    <tr style=\"text-align: right;\">\n",
       "      <th></th>\n",
       "      <th>year</th>\n",
       "      <th>state</th>\n",
       "      <th>pop</th>\n",
       "    </tr>\n",
       "  </thead>\n",
       "  <tbody>\n",
       "    <tr>\n",
       "      <th>one</th>\n",
       "      <td>2000</td>\n",
       "      <td>ohio</td>\n",
       "      <td>1.5</td>\n",
       "    </tr>\n",
       "    <tr>\n",
       "      <th>two</th>\n",
       "      <td>2001</td>\n",
       "      <td>alaska</td>\n",
       "      <td>1.7</td>\n",
       "    </tr>\n",
       "    <tr>\n",
       "      <th>three</th>\n",
       "      <td>2002</td>\n",
       "      <td>dakota</td>\n",
       "      <td>3.6</td>\n",
       "    </tr>\n",
       "    <tr>\n",
       "      <th>four</th>\n",
       "      <td>2002</td>\n",
       "      <td>kansas</td>\n",
       "      <td>2.4</td>\n",
       "    </tr>\n",
       "  </tbody>\n",
       "</table>\n",
       "</div>"
      ],
      "text/plain": [
       "       year   state  pop\n",
       "one    2000    ohio  1.5\n",
       "two    2001  alaska  1.7\n",
       "three  2002  dakota  3.6\n",
       "four   2002  kansas  2.4"
      ]
     },
     "execution_count": 28,
     "metadata": {},
     "output_type": "execute_result"
    }
   ],
   "source": [
    "data = {'state':['ohio','alaska','dakota','kansas','montena','nevada','ca'], \n",
    "       'year':[2000,2001,2002,2002,2001,2002,2003],\n",
    "       'pop':[1.5,1.7,3.6,2.4,2.9,3.2,4.4]}\n",
    "\n",
    "frame2 = pd.DataFrame(data,\n",
    "                      columns=['year','state','pop'],\n",
    "                      index=['one','two','three','four','five','six','s7'])\n",
    "\n",
    "# Display indexes from one through four, labels behaves differently than normal\n",
    "# python slicing in that the endpoint is inclusive\n",
    "frame2['one':'four']"
   ]
  },
  {
   "cell_type": "code",
   "execution_count": 29,
   "metadata": {
    "ExecuteTime": {
     "end_time": "2018-08-08T01:02:35.531065Z",
     "start_time": "2018-08-08T01:02:35.525081Z"
    }
   },
   "outputs": [
    {
     "data": {
      "text/plain": [
       "state    dakota\n",
       "Name: three, dtype: object"
      ]
     },
     "execution_count": 29,
     "metadata": {},
     "output_type": "execute_result"
    }
   ],
   "source": [
    "# get second row and first column by index.\n",
    "frame2.iloc[2,[1]]"
   ]
  },
  {
   "cell_type": "code",
   "execution_count": 30,
   "metadata": {
    "ExecuteTime": {
     "end_time": "2018-08-08T01:02:35.730541Z",
     "start_time": "2018-08-08T01:02:35.723560Z"
    }
   },
   "outputs": [
    {
     "data": {
      "text/plain": [
       "year     2000\n",
       "state    ohio\n",
       "Name: one, dtype: object"
      ]
     },
     "execution_count": 30,
     "metadata": {},
     "output_type": "execute_result"
    }
   ],
   "source": [
    "# Get the row by index label and column by column name\n",
    "frame2.loc['one',['year','state']]"
   ]
  },
  {
   "cell_type": "code",
   "execution_count": 31,
   "metadata": {
    "ExecuteTime": {
     "end_time": "2018-08-08T01:02:35.927019Z",
     "start_time": "2018-08-08T01:02:35.867179Z"
    }
   },
   "outputs": [
    {
     "data": {
      "text/plain": [
       "a    11.11\n",
       "b    22.22\n",
       "c    33.33\n",
       "d      NaN\n",
       "dtype: float64"
      ]
     },
     "execution_count": 31,
     "metadata": {},
     "output_type": "execute_result"
    }
   ],
   "source": [
    "# Example of outer join.\n",
    "s1= pd.Series([1.1,2.2,3.3],index=['a','b','c'])\n",
    "s2= pd.Series([10.01,20.02,30.03,40.04],index=['a','b','c','d'])\n",
    "\n",
    "# Any non-overlap indexes will be NaN, Same logic also applies to DataFrame\n",
    "s1 + s2\n"
   ]
  },
  {
   "cell_type": "code",
   "execution_count": 32,
   "metadata": {
    "ExecuteTime": {
     "end_time": "2018-08-08T01:02:36.009802Z",
     "start_time": "2018-08-08T01:02:36.001820Z"
    }
   },
   "outputs": [
    {
     "data": {
      "text/plain": [
       "a    11.11\n",
       "b    22.22\n",
       "c    33.33\n",
       "d    44.44\n",
       "dtype: float64"
      ]
     },
     "execution_count": 32,
     "metadata": {},
     "output_type": "execute_result"
    }
   ],
   "source": [
    "# Example of outer join.\n",
    "s1= pd.Series([1.1,2.2,3.3],index=['a','b','c'])\n",
    "s2= pd.Series([10.01,20.02,30.03,40.04],index=['a','b','c','d'])\n",
    "\n",
    "# Fill the missing values with some default. \n",
    "# for example 'd' for s1 will be default 4.4 so the result = 4.4 + 40.04 = 44.44\n",
    "# \n",
    "s1.add(s2,fill_value=4.4)"
   ]
  },
  {
   "cell_type": "code",
   "execution_count": 33,
   "metadata": {
    "ExecuteTime": {
     "end_time": "2018-08-08T01:02:36.162396Z",
     "start_time": "2018-08-08T01:02:36.155415Z"
    }
   },
   "outputs": [
    {
     "name": "stdout",
     "output_type": "stream",
     "text": [
      "       col1  col2  col3\n",
      "one       1     2     3\n",
      "two       4     5     6\n",
      "three     7     8     9\n",
      "four     10    11    12\n",
      "five     13    14    15\n"
     ]
    }
   ],
   "source": [
    "# applying a special function to data frame\n",
    "frame2 = pd.DataFrame(np.array(\n",
    "    [[1,2,3],\n",
    "     [4,5,6],\n",
    "     [7,8,9],\n",
    "     [10,11,12],\n",
    "     [13,14,15],\n",
    "    ]\n",
    "    ),columns=['col1','col2','col3'],\n",
    "                      index=['one','two','three','four','five'])\n",
    "print(frame2)"
   ]
  },
  {
   "cell_type": "code",
   "execution_count": 34,
   "metadata": {
    "ExecuteTime": {
     "end_time": "2018-08-08T01:02:36.324961Z",
     "start_time": "2018-08-08T01:02:36.312994Z"
    }
   },
   "outputs": [
    {
     "data": {
      "text/plain": [
       "one       3\n",
       "two       6\n",
       "three     9\n",
       "four     12\n",
       "five     15\n",
       "dtype: int64"
      ]
     },
     "execution_count": 34,
     "metadata": {},
     "output_type": "execute_result"
    }
   ],
   "source": [
    "# Finding max along column for each row\n",
    "f = lambda x: x.max()\n",
    "frame2.apply(f, axis='columns')"
   ]
  },
  {
   "cell_type": "code",
   "execution_count": 35,
   "metadata": {
    "ExecuteTime": {
     "end_time": "2018-08-08T01:02:36.602348Z",
     "start_time": "2018-08-08T01:02:36.596364Z"
    }
   },
   "outputs": [
    {
     "data": {
      "text/plain": [
       "col1    13\n",
       "col2    14\n",
       "col3    15\n",
       "dtype: int64"
      ]
     },
     "execution_count": 35,
     "metadata": {},
     "output_type": "execute_result"
    }
   ],
   "source": [
    "# Finding max along index(row) for each column\n",
    "f = lambda x: x.max()\n",
    "frame2.apply(f, axis='index')"
   ]
  },
  {
   "cell_type": "code",
   "execution_count": 36,
   "metadata": {
    "ExecuteTime": {
     "end_time": "2018-08-08T01:02:36.660194Z",
     "start_time": "2018-08-08T01:02:36.651218Z"
    }
   },
   "outputs": [
    {
     "name": "stdout",
     "output_type": "stream",
     "text": [
      "\n",
      "Adding 10 to all the columns\n"
     ]
    },
    {
     "data": {
      "text/html": [
       "<div>\n",
       "<style scoped>\n",
       "    .dataframe tbody tr th:only-of-type {\n",
       "        vertical-align: middle;\n",
       "    }\n",
       "\n",
       "    .dataframe tbody tr th {\n",
       "        vertical-align: top;\n",
       "    }\n",
       "\n",
       "    .dataframe thead th {\n",
       "        text-align: right;\n",
       "    }\n",
       "</style>\n",
       "<table border=\"1\" class=\"dataframe\">\n",
       "  <thead>\n",
       "    <tr style=\"text-align: right;\">\n",
       "      <th></th>\n",
       "      <th>col1</th>\n",
       "      <th>col2</th>\n",
       "      <th>col3</th>\n",
       "    </tr>\n",
       "  </thead>\n",
       "  <tbody>\n",
       "    <tr>\n",
       "      <th>one</th>\n",
       "      <td>11</td>\n",
       "      <td>12</td>\n",
       "      <td>13</td>\n",
       "    </tr>\n",
       "    <tr>\n",
       "      <th>two</th>\n",
       "      <td>14</td>\n",
       "      <td>15</td>\n",
       "      <td>16</td>\n",
       "    </tr>\n",
       "    <tr>\n",
       "      <th>three</th>\n",
       "      <td>17</td>\n",
       "      <td>18</td>\n",
       "      <td>19</td>\n",
       "    </tr>\n",
       "    <tr>\n",
       "      <th>four</th>\n",
       "      <td>20</td>\n",
       "      <td>21</td>\n",
       "      <td>22</td>\n",
       "    </tr>\n",
       "    <tr>\n",
       "      <th>five</th>\n",
       "      <td>23</td>\n",
       "      <td>24</td>\n",
       "      <td>25</td>\n",
       "    </tr>\n",
       "  </tbody>\n",
       "</table>\n",
       "</div>"
      ],
      "text/plain": [
       "       col1  col2  col3\n",
       "one      11    12    13\n",
       "two      14    15    16\n",
       "three    17    18    19\n",
       "four     20    21    22\n",
       "five     23    24    25"
      ]
     },
     "execution_count": 36,
     "metadata": {},
     "output_type": "execute_result"
    }
   ],
   "source": [
    "## Add 10 to all the columns\n",
    "add_ten = lambda x: x+10\n",
    "print(\"\\nAdding 10 to all the columns\")\n",
    "frame2.apply(add_ten, axis='columns')"
   ]
  },
  {
   "cell_type": "code",
   "execution_count": 37,
   "metadata": {
    "ExecuteTime": {
     "end_time": "2018-08-08T01:02:37.134927Z",
     "start_time": "2018-08-08T01:02:37.124954Z"
    }
   },
   "outputs": [
    {
     "name": "stdout",
     "output_type": "stream",
     "text": [
      "Sort by row\n",
      "   col3  col2  col1\n",
      "1     1     2     3\n",
      "2    10    11    12\n",
      "3     7     8     9\n",
      "4    13    14    15\n",
      "5     4     5     6\n",
      "Sort by column\n",
      "   col1  col2  col3\n",
      "1     3     2     1\n",
      "5     6     5     4\n",
      "3     9     8     7\n",
      "2    12    11    10\n",
      "4    15    14    13\n"
     ]
    }
   ],
   "source": [
    "# sorting\n",
    "frame2 = pd.DataFrame(np.array(\n",
    "    [[1,2,3],\n",
    "     [4,5,6],\n",
    "     [7,8,9],\n",
    "     [10,11,12],\n",
    "     [13,14,15],\n",
    "    ]\n",
    "    ),columns=['col3','col2','col1'],\n",
    "                      index=['1','5','3','2','4'])\n",
    "\n",
    "print(\"Sort by row\")\n",
    "print(frame2.sort_index())\n",
    "print(\"Sort by column\")\n",
    "print(frame2.sort_index(axis=1))"
   ]
  },
  {
   "cell_type": "code",
   "execution_count": 38,
   "metadata": {
    "ExecuteTime": {
     "end_time": "2018-08-08T01:02:37.311700Z",
     "start_time": "2018-08-08T01:02:37.305716Z"
    }
   },
   "outputs": [
    {
     "name": "stdout",
     "output_type": "stream",
     "text": [
      "Sum along row\n",
      "Sum along col\n"
     ]
    },
    {
     "data": {
      "text/plain": [
       "1     6\n",
       "5    15\n",
       "3    24\n",
       "2    33\n",
       "4    42\n",
       "dtype: int64"
      ]
     },
     "execution_count": 38,
     "metadata": {},
     "output_type": "execute_result"
    }
   ],
   "source": [
    "# Sum along rows and columns\n",
    "print(\"Sum along row\")\n",
    "frame2.sum()\n",
    "print(\"Sum along col\")\n",
    "frame2.sum(axis='columns')"
   ]
  },
  {
   "cell_type": "code",
   "execution_count": 39,
   "metadata": {
    "ExecuteTime": {
     "end_time": "2018-08-08T01:02:37.500199Z",
     "start_time": "2018-08-08T01:02:37.482247Z"
    }
   },
   "outputs": [
    {
     "data": {
      "text/html": [
       "<div>\n",
       "<style scoped>\n",
       "    .dataframe tbody tr th:only-of-type {\n",
       "        vertical-align: middle;\n",
       "    }\n",
       "\n",
       "    .dataframe tbody tr th {\n",
       "        vertical-align: top;\n",
       "    }\n",
       "\n",
       "    .dataframe thead th {\n",
       "        text-align: right;\n",
       "    }\n",
       "</style>\n",
       "<table border=\"1\" class=\"dataframe\">\n",
       "  <thead>\n",
       "    <tr style=\"text-align: right;\">\n",
       "      <th></th>\n",
       "      <th>col3</th>\n",
       "      <th>col2</th>\n",
       "      <th>col1</th>\n",
       "    </tr>\n",
       "  </thead>\n",
       "  <tbody>\n",
       "    <tr>\n",
       "      <th>count</th>\n",
       "      <td>5.000000</td>\n",
       "      <td>5.000000</td>\n",
       "      <td>5.000000</td>\n",
       "    </tr>\n",
       "    <tr>\n",
       "      <th>mean</th>\n",
       "      <td>7.000000</td>\n",
       "      <td>8.000000</td>\n",
       "      <td>9.000000</td>\n",
       "    </tr>\n",
       "    <tr>\n",
       "      <th>std</th>\n",
       "      <td>4.743416</td>\n",
       "      <td>4.743416</td>\n",
       "      <td>4.743416</td>\n",
       "    </tr>\n",
       "    <tr>\n",
       "      <th>min</th>\n",
       "      <td>1.000000</td>\n",
       "      <td>2.000000</td>\n",
       "      <td>3.000000</td>\n",
       "    </tr>\n",
       "    <tr>\n",
       "      <th>25%</th>\n",
       "      <td>4.000000</td>\n",
       "      <td>5.000000</td>\n",
       "      <td>6.000000</td>\n",
       "    </tr>\n",
       "    <tr>\n",
       "      <th>50%</th>\n",
       "      <td>7.000000</td>\n",
       "      <td>8.000000</td>\n",
       "      <td>9.000000</td>\n",
       "    </tr>\n",
       "    <tr>\n",
       "      <th>75%</th>\n",
       "      <td>10.000000</td>\n",
       "      <td>11.000000</td>\n",
       "      <td>12.000000</td>\n",
       "    </tr>\n",
       "    <tr>\n",
       "      <th>max</th>\n",
       "      <td>13.000000</td>\n",
       "      <td>14.000000</td>\n",
       "      <td>15.000000</td>\n",
       "    </tr>\n",
       "  </tbody>\n",
       "</table>\n",
       "</div>"
      ],
      "text/plain": [
       "            col3       col2       col1\n",
       "count   5.000000   5.000000   5.000000\n",
       "mean    7.000000   8.000000   9.000000\n",
       "std     4.743416   4.743416   4.743416\n",
       "min     1.000000   2.000000   3.000000\n",
       "25%     4.000000   5.000000   6.000000\n",
       "50%     7.000000   8.000000   9.000000\n",
       "75%    10.000000  11.000000  12.000000\n",
       "max    13.000000  14.000000  15.000000"
      ]
     },
     "execution_count": 39,
     "metadata": {},
     "output_type": "execute_result"
    }
   ],
   "source": [
    "# Get a brief statistics \n",
    "frame2.describe()"
   ]
  },
  {
   "cell_type": "code",
   "execution_count": 40,
   "metadata": {
    "ExecuteTime": {
     "end_time": "2018-08-08T01:02:37.658778Z",
     "start_time": "2018-08-08T01:02:37.651796Z"
    }
   },
   "outputs": [
    {
     "name": "stdout",
     "output_type": "stream",
     "text": [
      "0    1.0\n",
      "1    NaN\n",
      "2    3.2\n",
      "3    NaN\n",
      "4    NaN\n",
      "5    5.0\n",
      "dtype: float64\n",
      "\n",
      "dropn NA's data.dropna()\n"
     ]
    },
    {
     "data": {
      "text/plain": [
       "0    1.0\n",
       "2    3.2\n",
       "5    5.0\n",
       "dtype: float64"
      ]
     },
     "execution_count": 40,
     "metadata": {},
     "output_type": "execute_result"
    }
   ],
   "source": [
    "#Drop missing data with panda Series\n",
    "from numpy import nan as NA\n",
    "data = pd.Series([1,NA,3.2,NA,NA,5])\n",
    "print(data)\n",
    "print(\"\\ndropn NA's data.dropna()\")\n",
    "data.dropna()"
   ]
  },
  {
   "cell_type": "code",
   "execution_count": 41,
   "metadata": {
    "ExecuteTime": {
     "end_time": "2018-08-08T01:02:37.834410Z",
     "start_time": "2018-08-08T01:02:37.817455Z"
    }
   },
   "outputs": [
    {
     "name": "stdout",
     "output_type": "stream",
     "text": [
      "     0    1    2    3    4    5\n",
      "0  1.0  NaN  2.0  NaN  NaN  3.0\n",
      "1  4.0  5.0  6.0  7.0  7.0  8.0\n",
      "2  NaN  NaN  8.0  NaN  NaN  5.0\n",
      "3  NaN  NaN  NaN  NaN  NaN  NaN\n",
      "\n",
      "droping all the rows with one or more NA's\n",
      "     0    1    2    3    4    5\n",
      "1  4.0  5.0  6.0  7.0  7.0  8.0\n",
      "\n",
      "droping the rows with all NA's\n",
      "     0    1    2    3    4    5\n",
      "0  1.0  NaN  2.0  NaN  NaN  3.0\n",
      "1  4.0  5.0  6.0  7.0  7.0  8.0\n",
      "2  NaN  NaN  8.0  NaN  NaN  5.0\n",
      "\n",
      "droping the rows with threshold=2\n",
      "     0    1    2    3    4    5\n",
      "0  1.0  NaN  2.0  NaN  NaN  3.0\n",
      "1  4.0  5.0  6.0  7.0  7.0  8.0\n",
      "2  NaN  NaN  8.0  NaN  NaN  5.0\n"
     ]
    }
   ],
   "source": [
    "# Drop missing data with panda data frame\n",
    "from numpy import nan as NA\n",
    "data = pd.DataFrame([\n",
    "    [1, NA,2 ,NA,NA, 3],\n",
    "    [4, 5, 6 , 7, 7, 8],\n",
    "    [NA,NA,8 ,NA,NA, 5],\n",
    "    [NA,NA,NA,NA,NA,NA]\n",
    "])\n",
    "print(data)\n",
    "\n",
    "print(\"\\ndroping all the rows with one or more NA's\")\n",
    "print(data.dropna())\n",
    "\n",
    "print(\"\\ndroping the rows with all NA's\")\n",
    "print(data.dropna(how=\"all\"))\n",
    "\n",
    "print(\"\\ndroping the rows with threshold=2\")\n",
    "print(data.dropna(thresh=2))\n"
   ]
  },
  {
   "cell_type": "code",
   "execution_count": 42,
   "metadata": {
    "ExecuteTime": {
     "end_time": "2018-08-08T01:02:38.302159Z",
     "start_time": "2018-08-08T01:02:38.290191Z"
    }
   },
   "outputs": [
    {
     "name": "stdout",
     "output_type": "stream",
     "text": [
      "     0    1    2    3    4    5\n",
      "0  1.0  NaN  2.0  NaN  NaN  3.0\n",
      "1  4.0  5.0  6.0  7.0  7.0  8.0\n",
      "2  NaN  NaN  8.0  NaN  NaN  5.0\n",
      "3  NaN  NaN  NaN  NaN  NaN  NaN\n",
      "\n",
      "Fill missing NA with 100\n",
      "       0      1      2      3      4      5\n",
      "0    1.0  100.0    2.0  100.0  100.0    3.0\n",
      "1    4.0    5.0    6.0    7.0    7.0    8.0\n",
      "2  100.0  100.0    8.0  100.0  100.0    5.0\n",
      "3  100.0  100.0  100.0  100.0  100.0  100.0\n",
      "\n",
      " Replace all 7 and 5 with 777,555 \n",
      "     0      1    2      3      4      5\n",
      "0  1.0    NaN  2.0    NaN    NaN    3.0\n",
      "1  4.0  555.0  6.0  777.0  777.0    8.0\n",
      "2  NaN    NaN  8.0    NaN    NaN  555.0\n",
      "3  NaN    NaN  NaN    NaN    NaN    NaN\n"
     ]
    }
   ],
   "source": [
    "# Fill missing data with panda data frame\n",
    "from numpy import nan as NA\n",
    "data = pd.DataFrame([\n",
    "    [1, NA,2 ,NA,NA, 3],\n",
    "    [4, 5, 6 , 7, 7, 8],\n",
    "    [NA,NA,8 ,NA,NA, 5],\n",
    "    [NA,NA,NA,NA,NA,NA]\n",
    "])\n",
    "print(data)\n",
    "\n",
    "print(\"\\nFill missing NA with 100\")\n",
    "print(data.fillna(100))\n",
    "\n",
    "print(\"\\n Replace all 7 and 5 with 777,555 \")\n",
    "print(data.replace([7,5],[777,555]))\n"
   ]
  },
  {
   "cell_type": "code",
   "execution_count": 43,
   "metadata": {
    "ExecuteTime": {
     "end_time": "2018-08-08T01:02:38.574434Z",
     "start_time": "2018-08-08T01:02:38.564461Z"
    }
   },
   "outputs": [
    {
     "name": "stdout",
     "output_type": "stream",
     "text": [
      "number of groups\n",
      "IntervalIndex([(19, 25], (25, 35], (35, 60], (60, 100]]\n",
      "              closed='right',\n",
      "              dtype='interval[int64]')\n",
      "number in each group\n",
      "(60, 100]    3\n",
      "(35, 60]     3\n",
      "(19, 25]     3\n",
      "(25, 35]     2\n",
      "dtype: int64\n"
     ]
    }
   ],
   "source": [
    "# Bucketize the inputs\n",
    "ages = [20,22,25,31,34,45,48,55,61,65,75]\n",
    "bins =[19,25,35,60,100]\n",
    "cats = pd.cut(ages,bins)\n",
    "print( \"number of groups\")\n",
    "print(cats.categories)\n",
    "print( \"number in each group\")\n",
    "print(pd.value_counts(cats))"
   ]
  },
  {
   "cell_type": "code",
   "execution_count": 44,
   "metadata": {
    "ExecuteTime": {
     "end_time": "2018-08-08T01:02:38.801832Z",
     "start_time": "2018-08-08T01:02:38.794850Z"
    }
   },
   "outputs": [
    {
     "name": "stdout",
     "output_type": "stream",
     "text": [
      "a  1    100\n",
      "   2    200\n",
      "b  3    300\n",
      "   1    400\n",
      "c  2    500\n",
      "dtype: int64\n",
      "MultiIndex(levels=[['a', 'b', 'c'], [1, 2, 3]],\n",
      "           labels=[[0, 0, 1, 1, 2], [0, 1, 2, 0, 1]])\n"
     ]
    }
   ],
   "source": [
    "# Hierarchical indexing\n",
    "data = pd.Series([100,200,300,400,500],\n",
    "                 index=[['a','a','b','b','c'],[1,2,3,1,2]])\n",
    "print(data)\n",
    "print(data.index)"
   ]
  },
  {
   "cell_type": "code",
   "execution_count": 45,
   "metadata": {
    "ExecuteTime": {
     "end_time": "2018-08-08T01:02:39.006285Z",
     "start_time": "2018-08-08T01:02:38.999304Z"
    }
   },
   "outputs": [
    {
     "name": "stdout",
     "output_type": "stream",
     "text": [
      "data for 'a' => 1    100\n",
      "2    200\n",
      "dtype: int64\n",
      "data for '[2]' =>\n",
      "a  2    200\n",
      "c  2    500\n",
      "dtype: int64\n"
     ]
    }
   ],
   "source": [
    "# accesing data with for a\n",
    "x = data['a']\n",
    "print(f\"data for 'a' => {x}\")\n",
    "x = data.loc[:,[2]]\n",
    "print(f\"data for '[2]' =>\\n{x}\")"
   ]
  },
  {
   "cell_type": "code",
   "execution_count": 46,
   "metadata": {
    "ExecuteTime": {
     "end_time": "2018-08-08T01:02:39.208747Z",
     "start_time": "2018-08-08T01:02:39.200768Z"
    }
   },
   "outputs": [
    {
     "data": {
      "text/html": [
       "<div>\n",
       "<style scoped>\n",
       "    .dataframe tbody tr th:only-of-type {\n",
       "        vertical-align: middle;\n",
       "    }\n",
       "\n",
       "    .dataframe tbody tr th {\n",
       "        vertical-align: top;\n",
       "    }\n",
       "\n",
       "    .dataframe thead th {\n",
       "        text-align: right;\n",
       "    }\n",
       "</style>\n",
       "<table border=\"1\" class=\"dataframe\">\n",
       "  <thead>\n",
       "    <tr style=\"text-align: right;\">\n",
       "      <th></th>\n",
       "      <th>1</th>\n",
       "      <th>2</th>\n",
       "      <th>3</th>\n",
       "    </tr>\n",
       "  </thead>\n",
       "  <tbody>\n",
       "    <tr>\n",
       "      <th>a</th>\n",
       "      <td>100.0</td>\n",
       "      <td>200.0</td>\n",
       "      <td>NaN</td>\n",
       "    </tr>\n",
       "    <tr>\n",
       "      <th>b</th>\n",
       "      <td>400.0</td>\n",
       "      <td>NaN</td>\n",
       "      <td>300.0</td>\n",
       "    </tr>\n",
       "    <tr>\n",
       "      <th>c</th>\n",
       "      <td>NaN</td>\n",
       "      <td>500.0</td>\n",
       "      <td>NaN</td>\n",
       "    </tr>\n",
       "  </tbody>\n",
       "</table>\n",
       "</div>"
      ],
      "text/plain": [
       "       1      2      3\n",
       "a  100.0  200.0    NaN\n",
       "b  400.0    NaN  300.0\n",
       "c    NaN  500.0    NaN"
      ]
     },
     "execution_count": 46,
     "metadata": {},
     "output_type": "execute_result"
    }
   ],
   "source": [
    "data.unstack()"
   ]
  }
 ],
 "metadata": {
  "kernelspec": {
   "display_name": "Python 3",
   "language": "python",
   "name": "python3"
  },
  "language_info": {
   "codemirror_mode": {
    "name": "ipython",
    "version": 3
   },
   "file_extension": ".py",
   "mimetype": "text/x-python",
   "name": "python",
   "nbconvert_exporter": "python",
   "pygments_lexer": "ipython3",
   "version": "3.6.6"
  },
  "toc": {
   "base_numbering": 1.0,
   "nav_menu": {},
   "number_sections": true,
   "sideBar": true,
   "skip_h1_title": false,
   "title_cell": "Table of Contents",
   "title_sidebar": "Contents",
   "toc_cell": false,
   "toc_position": {},
   "toc_section_display": true,
   "toc_window_display": false
  }
 },
 "nbformat": 4,
 "nbformat_minor": 2
}
