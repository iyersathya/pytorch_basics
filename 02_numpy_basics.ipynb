{
 "cells": [
  {
   "cell_type": "markdown",
   "metadata": {},
   "source": [
    "## Numpy basics notes from book Python for Data Analysis\n",
    "To get a detailed notes an tutorial please read this book and refer to https://github.com/wesm/pydata-book"
   ]
  },
  {
   "cell_type": "code",
   "execution_count": 1,
   "metadata": {
    "ExecuteTime": {
     "end_time": "2018-08-08T01:02:07.301404Z",
     "start_time": "2018-08-08T01:02:07.225607Z"
    }
   },
   "outputs": [],
   "source": [
    "# Use SHIFT-ENTER to run each cell.\n",
    "# CTRL-s to save \n",
    "# Enter to edit the cell\n",
    "import numpy as np"
   ]
  },
  {
   "cell_type": "code",
   "execution_count": 2,
   "metadata": {
    "ExecuteTime": {
     "end_time": "2018-08-08T01:02:07.412108Z",
     "start_time": "2018-08-08T01:02:07.402135Z"
    }
   },
   "outputs": [
    {
     "data": {
      "text/plain": [
       "array([[-0.4268255 ,  1.37933539, -1.09817801],\n",
       "       [-0.73901613, -0.49430412, -1.23102969]])"
      ]
     },
     "execution_count": 2,
     "metadata": {},
     "output_type": "execute_result"
    }
   ],
   "source": [
    "# Generate a random array of 2row and 3 cols. \n",
    "# First number always represents row and second column.\n",
    "my_arr = np.random.randn(2,3)\n",
    "my_arr\n"
   ]
  },
  {
   "cell_type": "code",
   "execution_count": 3,
   "metadata": {
    "ExecuteTime": {
     "end_time": "2018-08-08T01:02:07.593623Z",
     "start_time": "2018-08-08T01:02:07.589634Z"
    }
   },
   "outputs": [
    {
     "data": {
      "text/plain": [
       "array([[ -4.26825505,  13.79335395, -10.98178012],\n",
       "       [ -7.39016129,  -4.94304125, -12.3102969 ]])"
      ]
     },
     "execution_count": 3,
     "metadata": {},
     "output_type": "execute_result"
    }
   ],
   "source": [
    "# Multiple array by 10\n",
    "my_arr * 10"
   ]
  },
  {
   "cell_type": "code",
   "execution_count": 4,
   "metadata": {
    "ExecuteTime": {
     "end_time": "2018-08-08T01:02:07.779130Z",
     "start_time": "2018-08-08T01:02:07.774144Z"
    }
   },
   "outputs": [
    {
     "data": {
      "text/plain": [
       "array([[2, 2, 2],\n",
       "       [4, 4, 4]])"
      ]
     },
     "execution_count": 4,
     "metadata": {},
     "output_type": "execute_result"
    }
   ],
   "source": [
    "# Do elementwise add\n",
    "my_array = np.array([[1,1,1],[2,2,2]])\n",
    "my_array + my_array"
   ]
  },
  {
   "cell_type": "code",
   "execution_count": 5,
   "metadata": {
    "ExecuteTime": {
     "end_time": "2018-08-08T01:02:07.967629Z",
     "start_time": "2018-08-08T01:02:07.962643Z"
    }
   },
   "outputs": [
    {
     "data": {
      "text/plain": [
       "(2, 3)"
      ]
     },
     "execution_count": 5,
     "metadata": {},
     "output_type": "execute_result"
    }
   ],
   "source": [
    "# Get the shape of an array. \n",
    "# first number is row, second is column\n",
    "my_array.shape"
   ]
  },
  {
   "cell_type": "code",
   "execution_count": 6,
   "metadata": {
    "ExecuteTime": {
     "end_time": "2018-08-08T01:02:08.153147Z",
     "start_time": "2018-08-08T01:02:08.150142Z"
    }
   },
   "outputs": [
    {
     "data": {
      "text/plain": [
       "array([1. , 2.5, 9. ])"
      ]
     },
     "execution_count": 6,
     "metadata": {},
     "output_type": "execute_result"
    }
   ],
   "source": [
    "#create a numpy array with python list\n",
    "data1 = [1,2.5,9]\n",
    "arr1 = np.array(data1)\n",
    "arr1"
   ]
  },
  {
   "cell_type": "code",
   "execution_count": 7,
   "metadata": {
    "ExecuteTime": {
     "end_time": "2018-08-08T01:02:08.322681Z",
     "start_time": "2018-08-08T01:02:08.317693Z"
    }
   },
   "outputs": [
    {
     "data": {
      "text/plain": [
       "array([[0., 0., 0., 0., 0., 0.],\n",
       "       [0., 0., 0., 0., 0., 0.],\n",
       "       [0., 0., 0., 0., 0., 0.]])"
      ]
     },
     "execution_count": 7,
     "metadata": {},
     "output_type": "execute_result"
    }
   ],
   "source": [
    "# Create a 3x6 array with zeros.\n",
    "np.zeros((3,6))"
   ]
  },
  {
   "cell_type": "code",
   "execution_count": 8,
   "metadata": {
    "ExecuteTime": {
     "end_time": "2018-08-08T01:02:08.495596Z",
     "start_time": "2018-08-08T01:02:08.490610Z"
    }
   },
   "outputs": [
    {
     "data": {
      "text/plain": [
       "array([[0., 0., 0., 0., 0., 0.],\n",
       "       [0., 0., 0., 0., 0., 0.],\n",
       "       [0., 0., 0., 0., 0., 0.]])"
      ]
     },
     "execution_count": 8,
     "metadata": {},
     "output_type": "execute_result"
    }
   ],
   "source": [
    "# Create a 3x6 array with that is uninitialized\n",
    "np.empty((3,6))\n"
   ]
  },
  {
   "cell_type": "code",
   "execution_count": 9,
   "metadata": {
    "ExecuteTime": {
     "end_time": "2018-08-08T01:02:08.663151Z",
     "start_time": "2018-08-08T01:02:08.658165Z"
    }
   },
   "outputs": [
    {
     "data": {
      "text/plain": [
       "array([1., 2.])"
      ]
     },
     "execution_count": 9,
     "metadata": {},
     "output_type": "execute_result"
    }
   ],
   "source": [
    "# Create a 1x2 array of floats.\n",
    "arr1 = np.array([1,2.0],dtype=np.float64)\n",
    "arr1"
   ]
  },
  {
   "cell_type": "code",
   "execution_count": 10,
   "metadata": {
    "ExecuteTime": {
     "end_time": "2018-08-08T01:02:08.824719Z",
     "start_time": "2018-08-08T01:02:08.820730Z"
    }
   },
   "outputs": [
    {
     "data": {
      "text/plain": [
       "array([1, 2])"
      ]
     },
     "execution_count": 10,
     "metadata": {},
     "output_type": "execute_result"
    }
   ],
   "source": [
    "# Create a 1x2 array of ints.\n",
    "arr2 = np.array([1,2.0],dtype=np.int32)\n",
    "arr2"
   ]
  },
  {
   "cell_type": "code",
   "execution_count": 11,
   "metadata": {
    "ExecuteTime": {
     "end_time": "2018-08-08T01:02:09.002245Z",
     "start_time": "2018-08-08T01:02:08.997258Z"
    }
   },
   "outputs": [
    {
     "data": {
      "text/plain": [
       "array([1, 1, 1, 1])"
      ]
     },
     "execution_count": 11,
     "metadata": {},
     "output_type": "execute_result"
    }
   ],
   "source": [
    "# Convert float array to int array\n",
    "arr = np.array([1.2,1.3,1.5,1.9])\n",
    "arr = arr.astype(np.int32)\n",
    "arr"
   ]
  },
  {
   "cell_type": "code",
   "execution_count": 12,
   "metadata": {
    "ExecuteTime": {
     "end_time": "2018-08-08T01:02:09.168728Z",
     "start_time": "2018-08-08T01:02:09.163741Z"
    }
   },
   "outputs": [
    {
     "data": {
      "text/plain": [
       "array([[ 1,  4,  9],\n",
       "       [16, 25, 36],\n",
       "       [49, 64, 81]])"
      ]
     },
     "execution_count": 12,
     "metadata": {},
     "output_type": "execute_result"
    }
   ],
   "source": [
    "# Do a elementwise multiplication of two arrays.\n",
    "arr = np.array([[1,2,3],[4,5,6],[7,8,9]])\n",
    "arr * arr"
   ]
  },
  {
   "cell_type": "code",
   "execution_count": 13,
   "metadata": {
    "ExecuteTime": {
     "end_time": "2018-08-08T01:02:09.351768Z",
     "start_time": "2018-08-08T01:02:09.346782Z"
    }
   },
   "outputs": [
    {
     "data": {
      "text/plain": [
       "array([[ 9, 12],\n",
       "       [24, 33]])"
      ]
     },
     "execution_count": 13,
     "metadata": {},
     "output_type": "execute_result"
    }
   ],
   "source": [
    "# Do a dot product of two arrays.\n",
    "arr = np.array([[1,2],[4,5]])\n",
    "np.dot(arr,arr)\n",
    "# [1 2] x [1 2]\n",
    "# [4 5]   [4 5]\n",
    "\n",
    "# [ (1*1 + 2*4)  (1*2 + 2*5) ]\n",
    "# [ (4*1 + 5*4)  (4*2 + 5*5) ]\n",
    "#"
   ]
  },
  {
   "cell_type": "code",
   "execution_count": 14,
   "metadata": {
    "ExecuteTime": {
     "end_time": "2018-08-08T01:02:09.532286Z",
     "start_time": "2018-08-08T01:02:09.518323Z"
    }
   },
   "outputs": [
    {
     "name": "stdout",
     "output_type": "stream",
     "text": [
      "print array [0 1 2 3 4 5 6 7 8 9]\n",
      "first 5 elems arr[:5] =>  [0 1 2 3 4]\n",
      "last  5 elems arr[-5:] => [5 6 7 8 9]\n",
      "elems from 3 to 7 elems arr[3:8] => [3 4 5 6 7]\n",
      "Add 12 from index 5 to 7 arr[5:8]=12 => [ 0  1  2  3  4 12 12 12  8  9]\n",
      "Replace all elems with 63 arr[:]=64 => [64 64 64 64 64 64 64 64 64 64]\n"
     ]
    }
   ],
   "source": [
    "## Generate random array of 10 integers.\n",
    "arr = np.arange(10)\n",
    "\n",
    "print(f'print array {arr}')\n",
    "print(f'first 5 elems arr[:5] =>  {arr[:5]}')\n",
    "print(f'last  5 elems arr[-5:] => {arr[-5:]}')\n",
    "# Not start index is included, but stop index is excluded\n",
    "print(f'elems from 3 to 7 elems arr[3:8] => {arr[3:8]}')\n",
    "\n",
    "# Add 12 from index 5 to 7 , this is known as broadcasting\n",
    "arr[5:8] = 12\n",
    "print(f'Add 12 from index 5 to 7 arr[5:8]=12 => {arr}')\n",
    "\n",
    "# Replace all the elems \n",
    "arr[:] = 64\n",
    "print(f'Replace all elems with 63 arr[:]=64 => {arr}')"
   ]
  },
  {
   "cell_type": "code",
   "execution_count": 15,
   "metadata": {
    "ExecuteTime": {
     "end_time": "2018-08-08T01:02:09.689864Z",
     "start_time": "2018-08-08T01:02:09.684878Z"
    }
   },
   "outputs": [
    {
     "name": "stdout",
     "output_type": "stream",
     "text": [
      "select first two rows and first two cols \n",
      "[[1 2]\n",
      " [4 5]]\n",
      "start 1st row and end at 1st row,and select 1st two cols\n",
      "[4 5]\n",
      "get all the rows :, and start at 0th col and end at 1th col \n",
      "[[1 2]\n",
      " [4 5]\n",
      " [7 8]]\n"
     ]
    }
   ],
   "source": [
    "arr = np.array([\n",
    "        [1,2,3],\n",
    "        [4,5,6],\n",
    "        [7,8,9]])\n",
    "\n",
    "print(f'select first two rows and first two cols \\n{arr[:2,:2]}')\n",
    "print(f'start 1st row and end at 1st row,and select 1st two cols\\n{arr[1,:2]}')\n",
    "print(f'get all the rows :, and start at 0th col and end at 1th col \\n{arr[:,:2]}')"
   ]
  },
  {
   "cell_type": "code",
   "execution_count": 16,
   "metadata": {
    "ExecuteTime": {
     "end_time": "2018-08-08T01:02:09.849441Z",
     "start_time": "2018-08-08T01:02:09.844455Z"
    }
   },
   "outputs": [
    {
     "data": {
      "text/plain": [
       "array([[ 0,  1,  2,  3,  4],\n",
       "       [ 5,  6,  7,  8,  9],\n",
       "       [10, 11, 12, 13, 14]])"
      ]
     },
     "execution_count": 16,
     "metadata": {},
     "output_type": "execute_result"
    }
   ],
   "source": [
    "# reshape an array.\n",
    "# Create a array of 15 elements\n",
    "arr = np.arange(15)\n",
    "# Reshape it to 3x5 array\n",
    "arr.reshape((3,5))"
   ]
  },
  {
   "cell_type": "code",
   "execution_count": 17,
   "metadata": {
    "ExecuteTime": {
     "end_time": "2018-08-08T01:02:10.552696Z",
     "start_time": "2018-08-08T01:02:10.547709Z"
    }
   },
   "outputs": [
    {
     "data": {
      "text/plain": [
       "array([ 4, 11, 23, 55])"
      ]
     },
     "execution_count": 17,
     "metadata": {},
     "output_type": "execute_result"
    }
   ],
   "source": [
    "# Get the maximum elements from two arrays.\n",
    "arr_x = np.array([1,4,23,55])\n",
    "arr_y = np.array([4,11,3,45])\n",
    "np.maximum(arr_x,arr_y)                "
   ]
  },
  {
   "cell_type": "code",
   "execution_count": 18,
   "metadata": {
    "ExecuteTime": {
     "end_time": "2018-08-08T01:02:11.061336Z",
     "start_time": "2018-08-08T01:02:11.056349Z"
    }
   },
   "outputs": [
    {
     "data": {
      "text/plain": [
       "array(['bat', 'rat', 'zat'], dtype='<U3')"
      ]
     },
     "execution_count": 18,
     "metadata": {},
     "output_type": "execute_result"
    }
   ],
   "source": [
    "# Get unique elements from an array\n",
    "names = np.array(['zat','bat','rat','zat','rat'])\n",
    "np.unique(names)"
   ]
  },
  {
   "cell_type": "code",
   "execution_count": 19,
   "metadata": {
    "ExecuteTime": {
     "end_time": "2018-08-08T01:02:11.688661Z",
     "start_time": "2018-08-08T01:02:11.683674Z"
    }
   },
   "outputs": [
    {
     "data": {
      "text/plain": [
       "array([ 1,  3,  6, 10, 15, 21, 28, 36, 45], dtype=int32)"
      ]
     },
     "execution_count": 19,
     "metadata": {},
     "output_type": "execute_result"
    }
   ],
   "source": [
    "# Do a cumulative sum of of elements of the array.\n",
    "arr = np.array([[1,2,3],[4,5,6],[7,8,9]])\n",
    "# Output is a single dimentional array flattened out.\n",
    "np.cumsum(arr)"
   ]
  }
 ],
 "metadata": {
  "kernelspec": {
   "display_name": "Python 3",
   "language": "python",
   "name": "python3"
  },
  "language_info": {
   "codemirror_mode": {
    "name": "ipython",
    "version": 3
   },
   "file_extension": ".py",
   "mimetype": "text/x-python",
   "name": "python",
   "nbconvert_exporter": "python",
   "pygments_lexer": "ipython3",
   "version": "3.6.6"
  },
  "toc": {
   "base_numbering": 1.0,
   "nav_menu": {},
   "number_sections": true,
   "sideBar": true,
   "skip_h1_title": false,
   "title_cell": "Table of Contents",
   "title_sidebar": "Contents",
   "toc_cell": false,
   "toc_position": {},
   "toc_section_display": true,
   "toc_window_display": false
  }
 },
 "nbformat": 4,
 "nbformat_minor": 2
}
